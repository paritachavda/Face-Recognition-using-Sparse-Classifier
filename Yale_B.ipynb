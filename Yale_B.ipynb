{
  "nbformat": 4,
  "nbformat_minor": 0,
  "metadata": {
    "accelerator": "GPU",
    "colab": {
      "name": " Yale_B.ipynb",
      "provenance": [],
      "collapsed_sections": [],
      "include_colab_link": true
    },
    "kernelspec": {
      "display_name": "Python 3",
      "language": "python",
      "name": "python3"
    },
    "language_info": {
      "codemirror_mode": {
        "name": "ipython",
        "version": 3
      },
      "file_extension": ".py",
      "mimetype": "text/x-python",
      "name": "python",
      "nbconvert_exporter": "python",
      "pygments_lexer": "ipython3",
      "version": "3.7.3"
    }
  },
  "cells": [
    {
      "cell_type": "markdown",
      "metadata": {
        "id": "view-in-github",
        "colab_type": "text"
      },
      "source": [
        "<a href=\"https://colab.research.google.com/github/paritachavda/Face-Recognition-using-Sparse-Classifier/blob/main/Yale_B.ipynb\" target=\"_parent\"><img src=\"https://colab.research.google.com/assets/colab-badge.svg\" alt=\"Open In Colab\"/></a>"
      ]
    },
    {
      "cell_type": "markdown",
      "source": [
        "# **Sparse representation based classifier on Extended Yale B dataset**\n",
        "*   Dataset Info: It includes 31 persons images under 64 lightning situations.(Total Images: 1984)\n",
        "*   Training:32 images per person(992 images)\n",
        "*  Testing: 32 images per person(992 images)\n",
        "*  Original dimension:1024\n",
        "*  Reduced dimension: 140\n",
        "*   Accuracy: 97.37%\n",
        "\n",
        "\n",
        "\n",
        "\n",
        "\n",
        "\n"
      ],
      "metadata": {
        "id": "u7jBoobf7rUn"
      }
    },
    {
      "cell_type": "code",
      "metadata": {
        "id": "Awr5dcI0lX_d"
      },
      "source": [
        "from google.colab import drive\n",
        "drive.mount('/content/drive')"
      ],
      "execution_count": null,
      "outputs": []
    },
    {
      "cell_type": "code",
      "metadata": {
        "id": "7pvhb8dX_oUC"
      },
      "source": [
        "import numpy as np\n",
        "from PIL import Image\n",
        "import os, sys"
      ],
      "execution_count": null,
      "outputs": []
    },
    {
      "cell_type": "code",
      "metadata": {
        "id": "Ch2_n5QVAPpg"
      },
      "source": [
        "def read_images(path, sz=None,sz0=168,sz1=192):     \n",
        "    c=0\n",
        "    X,y = [], []\n",
        "    for dirname , dirnames , filenames in os.walk(path):\n",
        "        # print(dirname)\n",
        "        # print(dirnames)\n",
        "        # print(filenames)\n",
        "        for subdirname in dirnames:\n",
        "            subject_path = os.path.join(dirname , subdirname) \n",
        "            # count=0\n",
        "            for filename in os.listdir(subject_path):\n",
        "                try:\n",
        "                    # count=count+1\n",
        "                    im = Image.open(os.path.join(subject_path , filename)) \n",
        "                    # im = im.convert(\"L\")\n",
        "                    \n",
        "                    if ((im.size[0] == sz0) & (im.size[1]==sz1)):\n",
        "                        if (sz is not None):\n",
        "                            im = im.resize(sz, Image.NEAREST)     \n",
        "                        X.append(np.asarray(im, dtype=np.uint8)) \n",
        "                        y.append(c)\n",
        "                except IOError:\n",
        "                    pass\n",
        "                except:\n",
        "                    print(\"Unexpected error:\", sys.exc_info()[0])\n",
        "                    raise\n",
        "            \n",
        "            c = c+1          \n",
        "    \n",
        "    return [X,y]"
      ],
      "execution_count": null,
      "outputs": []
    },
    {
      "cell_type": "code",
      "metadata": {
        "id": "FM-V2H5JoXYf"
      },
      "source": [
        "!unzip -q '/content/drive/My Drive/thesis/dataset/CroppedYale.zip'"
      ],
      "execution_count": null,
      "outputs": []
    },
    {
      "cell_type": "code",
      "metadata": {
        "id": "PhyXrdmyAXim",
        "outputId": "3849666d-7e14-4aa1-94dd-da7a445ed643",
        "colab": {
          "base_uri": "https://localhost:8080/",
          "height": 34
        }
      },
      "source": [
        "path_images = '/content/CroppedYale' \n",
        "X,y = read_images(path_images, sz=(32,32))\n",
        "print(\"Number of loaded items \",len(X))"
      ],
      "execution_count": null,
      "outputs": [
        {
          "output_type": "stream",
          "text": [
            "Number of loaded items  2442\n"
          ],
          "name": "stdout"
        }
      ]
    },
    {
      "cell_type": "code",
      "metadata": {
        "id": "Pdwl264-iLu1",
        "outputId": "1e777dcb-15c1-4807-a046-fa8157a35453",
        "colab": {
          "base_uri": "https://localhost:8080/",
          "height": 34
        }
      },
      "source": [
        "import collections\n",
        "my_dict = collections.defaultdict(int)\n",
        "for i in y:\n",
        "    my_dict[i] += 1\n",
        "temp = min(my_dict.items(), key=lambda x: x[1])\n",
        "print(temp)\n",
        "min_num_img = temp[1]\n",
        "# my_dict"
      ],
      "execution_count": null,
      "outputs": [
        {
          "output_type": "stream",
          "text": [
            "(0, 64)\n"
          ],
          "name": "stdout"
        }
      ]
    },
    {
      "cell_type": "code",
      "metadata": {
        "id": "wrUi8xFUiLvD"
      },
      "source": [
        "number_of_classes=31\n",
        "width=32\n",
        "height=32\n",
        "input_data= []\n",
        "input_label= []\n",
        "prev=0\n",
        "for i in range(number_of_classes):\n",
        "    img_in_class = my_dict[i]\n",
        "   \n",
        "    for j in range(min_num_img):\n",
        "        input_data.append(X[prev+j])\n",
        "        input_label.append(y[prev+j])\n",
        "    \n",
        "    prev += img_in_class"
      ],
      "execution_count": null,
      "outputs": []
    },
    {
      "cell_type": "code",
      "metadata": {
        "id": "95_PZEOPBGui",
        "outputId": "f903fd0c-811c-4c78-f4df-2e73d10db0dd",
        "colab": {
          "base_uri": "https://localhost:8080/",
          "height": 34
        }
      },
      "source": [
        "np.random.seed(2019)\n",
        "\n",
        "Xtrain, Xtest = [], []\n",
        "ytrain, ytest = [], []\n",
        "\n",
        "for i in range(len(input_data)):\n",
        "    if i%64==0:\n",
        "        train = np.random.choice(64,32,replace=False)\n",
        "          \n",
        "    if ((i%64 in train)):\n",
        "        Xtrain.append(input_data[i])\n",
        "        ytrain.append(input_label[i])        \n",
        "    else:\n",
        "        Xtest.append(input_data[i])\n",
        "        ytest.append(input_label[i])      \n",
        "\n",
        "len(Xtrain)"
      ],
      "execution_count": null,
      "outputs": [
        {
          "output_type": "execute_result",
          "data": {
            "text/plain": [
              "992"
            ]
          },
          "metadata": {
            "tags": []
          },
          "execution_count": 7
        }
      ]
    },
    {
      "cell_type": "code",
      "metadata": {
        "id": "wZjQXWtjPAKW"
      },
      "source": [
        "img_in_class = 32\n",
        "training_data= np.zeros((number_of_classes*img_in_class,width*height))\n",
        "training_label= np.zeros(number_of_classes*img_in_class)\n",
        "\n",
        "for i in range(number_of_classes):\n",
        "    for c in range(img_in_class):\n",
        "        training_data[i*img_in_class+c,:] = Xtrain[i*img_in_class+c].flatten()\n",
        "        training_label[i*img_in_class+c]=ytrain[i*img_in_class+c]    \n",
        "    \n",
        "training_data_col = training_data.T\n"
      ],
      "execution_count": null,
      "outputs": []
    },
    {
      "cell_type": "code",
      "metadata": {
        "id": "3NVsiO8_iLvx"
      },
      "source": [
        "X_toconcat_test = [np.reshape(e,(Xtest[0].shape[0]*Xtest[0].shape[1],1)) for e in Xtest]\n",
        "test_data_col = np.concatenate(X_toconcat_test,axis=1) "
      ],
      "execution_count": null,
      "outputs": []
    },
    {
      "cell_type": "code",
      "metadata": {
        "id": "VRNcHTMDDDCZ"
      },
      "source": [
        "from sklearn.decomposition import PCA\n",
        "\n",
        "def eigenfaces(X_train,X_test,n_components=200):  \n",
        "    pca = PCA(n_components=n_components, svd_solver='randomized',\n",
        "      whiten=True).fit(X_train)\n",
        "    X_train_pca = pca.transform(X_train)\n",
        "    X_test_pca = pca.transform(X_test)\n",
        "    \n",
        "    return X_train_pca, X_test_pca,pca.explained_variance_  "
      ],
      "execution_count": null,
      "outputs": []
    },
    {
      "cell_type": "code",
      "metadata": {
        "id": "Fx7b9w2RD0-Q"
      },
      "source": [
        "from sklearn.preprocessing import StandardScaler\n",
        "\n",
        "ss = StandardScaler()\n",
        "Xtrain_std = ss.fit_transform(training_data_col)\n",
        "Xtest_std = ss.fit_transform(test_data_col)\n",
        "\n",
        "Xtrain_PCA, Xtest_PCA,eigen_vals = eigenfaces(Xtrain_std.T,Xtest_std.T,n_components=200)\n"
      ],
      "execution_count": null,
      "outputs": []
    },
    {
      "cell_type": "code",
      "metadata": {
        "id": "bjjhtK4rw_bG"
      },
      "source": [
        "for inx in range(len(Xtrain_PCA)):\n",
        "  Xtrain_PCA[inx] = np.divide(Xtrain_PCA[inx],eigen_vals) \n"
      ],
      "execution_count": null,
      "outputs": []
    },
    {
      "cell_type": "code",
      "metadata": {
        "id": "e4UjUM8YxZTo",
        "outputId": "6c8c9f94-76e8-474f-82e5-d9416c68cc98",
        "colab": {
          "base_uri": "https://localhost:8080/",
          "height": 34
        }
      },
      "source": [
        "Xtrain_PCA[0][0:5]"
      ],
      "execution_count": null,
      "outputs": [
        {
          "output_type": "execute_result",
          "data": {
            "text/plain": [
              "array([-0.00328853, -0.00371869, -0.01427543,  0.00080974,  0.01914916])"
            ]
          },
          "metadata": {
            "tags": []
          },
          "execution_count": 104
        }
      ]
    },
    {
      "cell_type": "code",
      "metadata": {
        "id": "IUnFW2uNyjwh",
        "colab": {
          "base_uri": "https://localhost:8080/",
          "height": 34
        },
        "outputId": "d187fb67-0c77-4559-ed9c-fd0598e42318"
      },
      "source": [
        "Xtest_PCA[0][0:5]"
      ],
      "execution_count": null,
      "outputs": [
        {
          "output_type": "execute_result",
          "data": {
            "text/plain": [
              "array([ 0.11433962,  0.95263196,  1.64479569,  0.84129758, -0.3050487 ])"
            ]
          },
          "metadata": {
            "tags": []
          },
          "execution_count": 105
        }
      ]
    },
    {
      "cell_type": "code",
      "metadata": {
        "id": "2p8CsFMPye_a"
      },
      "source": [
        "for inx in range(len(Xtest_PCA)):\n",
        "  Xtest_PCA[inx] = np.divide(Xtest_PCA[inx],eigen_vals)"
      ],
      "execution_count": null,
      "outputs": []
    },
    {
      "cell_type": "code",
      "metadata": {
        "id": "3glzKQJKyn-6",
        "colab": {
          "base_uri": "https://localhost:8080/",
          "height": 34
        },
        "outputId": "b0b0b97e-88cc-4b3f-9521-1dbac7cd320e"
      },
      "source": [
        "Xtest_PCA[0][0:5]"
      ],
      "execution_count": null,
      "outputs": [
        {
          "output_type": "execute_result",
          "data": {
            "text/plain": [
              "array([ 0.0003052 ,  0.00736459,  0.02457456,  0.03145967, -0.01499844])"
            ]
          },
          "metadata": {
            "tags": []
          },
          "execution_count": 107
        }
      ]
    },
    {
      "cell_type": "code",
      "metadata": {
        "id": "i35sf8uc5mqS"
      },
      "source": [
        "Xtrain_col, Xtest_col = Xtrain_PCA.T, Xtest_PCA.T"
      ],
      "execution_count": null,
      "outputs": []
    },
    {
      "cell_type": "code",
      "metadata": {
        "id": "i-09hmZR8wgo"
      },
      "source": [
        "np.random.seed(2019)\n",
        "from numpy.random import rand\n",
        "\n",
        "alpha = 0.010\n",
        "pca_components = 200\n",
        "number_chosen_components=140\n",
        "\n",
        "p_zero = np.random.rand(pca_components,number_chosen_components)\n",
        "y_tr = p_zero.transpose().dot(Xtrain_col)"
      ],
      "execution_count": null,
      "outputs": []
    },
    {
      "cell_type": "code",
      "metadata": {
        "id": "iv2o5d9C5th0",
        "colab": {
          "base_uri": "https://localhost:8080/",
          "height": 243
        },
        "outputId": "4dca8f77-e357-4618-9969-1891ce128d94"
      },
      "source": [
        "y_tr"
      ],
      "execution_count": null,
      "outputs": [
        {
          "output_type": "execute_result",
          "data": {
            "text/plain": [
              "array([[ -4.52525692, -26.44185408, -25.4680328 , ...,  10.58300278,\n",
              "          0.06558259, -28.26233276],\n",
              "       [  8.22579566, -14.65624994, -30.25045171, ...,  11.48292953,\n",
              "         -0.17850183, -12.76153595],\n",
              "       [ 17.54996849, -12.48052803, -30.82179526, ..., -15.51810738,\n",
              "         16.5076912 , -12.88308979],\n",
              "       ...,\n",
              "       [-23.62641656, -21.21125994,  -7.43357762, ...,  25.83588901,\n",
              "         -4.30968738, -30.38447277],\n",
              "       [ -9.67587994, -22.78345989, -28.79139715, ...,  -2.73572279,\n",
              "         -5.82590591, -30.3280251 ],\n",
              "       [  0.39639443,  15.42527845, -32.14471451, ...,   7.47225536,\n",
              "        -12.96906778, -15.54882434]])"
            ]
          },
          "metadata": {
            "tags": []
          },
          "execution_count": 112
        }
      ]
    },
    {
      "cell_type": "code",
      "metadata": {
        "id": "Eeqpoe-hiLwp",
        "outputId": "4b89343e-e68c-467d-bfb6-b4f94e174c88",
        "colab": {
          "base_uri": "https://localhost:8080/",
          "height": 139
        }
      },
      "source": [
        "print(p_zero)"
      ],
      "execution_count": null,
      "outputs": [
        {
          "output_type": "stream",
          "text": [
            "[[0.90348221 0.39308051 0.62396996 ... 0.94282962 0.20161853 0.32548516]\n",
            " [0.91542946 0.80026745 0.90502811 ... 0.43501387 0.87555035 0.55869017]\n",
            " [0.23663512 0.06061889 0.77485038 ... 0.42688347 0.69432765 0.76174903]\n",
            " ...\n",
            " [0.22828824 0.69057527 0.21124483 ... 0.32022098 0.00974336 0.89718423]\n",
            " [0.86959116 0.42671688 0.67344954 ... 0.21846711 0.73290182 0.22027651]\n",
            " [0.66657454 0.27559988 0.52202391 ... 0.51201401 0.47320117 0.7738579 ]]\n"
          ],
          "name": "stdout"
        }
      ]
    },
    {
      "cell_type": "code",
      "metadata": {
        "id": "T1LZJnayEY8w",
        "outputId": "db26309e-4e05-4295-921c-f12a7a08f863",
        "colab": {
          "base_uri": "https://localhost:8080/",
          "height": 34
        }
      },
      "source": [
        "import warnings\n",
        "warnings.filterwarnings('ignore')\n",
        "\n",
        "from sklearn.linear_model import Lasso\n",
        "from tqdm import tqdm\n",
        "\n",
        "sp_re = np.zeros(shape=(y_tr.shape[1]-1,y_tr.shape[1]))\n",
        "for i in tqdm(range(y_tr.shape[1])):  \n",
        "    clf = Lasso(alpha)\n",
        "    y = y_tr[:,i]\n",
        "    y_tr = np.delete(y_tr,i,1)\n",
        "    clf.fit(y_tr,y)\n",
        "    y_tr=np.insert(y_tr,i,y,axis=1)\n",
        "    sp_re[:,i] = clf.coef_\n"
      ],
      "execution_count": null,
      "outputs": [
        {
          "output_type": "stream",
          "text": [
            "100%|██████████| 992/992 [03:01<00:00,  5.47it/s]\n"
          ],
          "name": "stderr"
        }
      ]
    },
    {
      "cell_type": "code",
      "metadata": {
        "id": "9FnYaDpt6OZC",
        "colab": {
          "base_uri": "https://localhost:8080/",
          "height": 243
        },
        "outputId": "d031fd79-9f7d-4244-ca1f-3497ab02ed74"
      },
      "source": [
        "sp_re"
      ],
      "execution_count": null,
      "outputs": [
        {
          "output_type": "execute_result",
          "data": {
            "text/plain": [
              "array([[ 0.11567302,  0.26448786,  0.        , ...,  0.05890141,\n",
              "         0.        , -0.        ],\n",
              "       [ 0.        , -0.21476293, -0.05077747, ...,  0.00155595,\n",
              "         0.00307561,  0.        ],\n",
              "       [-0.        ,  0.06497198,  0.05134005, ...,  0.12692718,\n",
              "        -0.07465107,  0.13519844],\n",
              "       ...,\n",
              "       [ 0.00207912,  0.        ,  0.00028611, ...,  0.06489935,\n",
              "        -0.02664633, -0.        ],\n",
              "       [-0.        ,  0.        , -0.        , ...,  0.        ,\n",
              "        -0.        , -0.        ],\n",
              "       [-0.        ,  0.03347367,  0.01826911, ..., -0.02359766,\n",
              "         0.        , -0.        ]])"
            ]
          },
          "metadata": {
            "tags": []
          },
          "execution_count": 114
        }
      ]
    },
    {
      "cell_type": "code",
      "metadata": {
        "id": "Xw6UrLQx6Rxy",
        "colab": {
          "base_uri": "https://localhost:8080/",
          "height": 243
        },
        "outputId": "c121abcf-8d21-4045-8272-f7493e8ef33e"
      },
      "source": [
        "sp_re"
      ],
      "execution_count": null,
      "outputs": [
        {
          "output_type": "execute_result",
          "data": {
            "text/plain": [
              "array([[ 1.69315947e-02,  1.28260475e-01,  1.67982293e-02, ...,\n",
              "         4.05959681e-02, -3.96801627e-03, -0.00000000e+00],\n",
              "       [-0.00000000e+00,  3.71003660e-02,  1.99697731e-02, ...,\n",
              "         2.94315584e-03,  2.01807743e-03,  0.00000000e+00],\n",
              "       [-0.00000000e+00,  1.17449756e-01, -0.00000000e+00, ...,\n",
              "         3.68799032e-02, -0.00000000e+00,  4.09484620e-02],\n",
              "       ...,\n",
              "       [ 0.00000000e+00,  3.22674923e-06,  9.29582271e-04, ...,\n",
              "         3.18901665e-02, -3.01880520e-03, -1.28086804e-04],\n",
              "       [-0.00000000e+00, -0.00000000e+00,  0.00000000e+00, ...,\n",
              "         0.00000000e+00, -0.00000000e+00, -0.00000000e+00],\n",
              "       [ 0.00000000e+00,  0.00000000e+00,  2.75049692e-03, ...,\n",
              "        -0.00000000e+00, -0.00000000e+00, -0.00000000e+00]])"
            ]
          },
          "metadata": {
            "tags": []
          },
          "execution_count": 116
        }
      ]
    },
    {
      "cell_type": "code",
      "metadata": {
        "id": "mYFVzp1JI4ak"
      },
      "source": [
        "mew = np.zeros((number_of_classes, pca_components))\n",
        "M = np.zeros((1,pca_components))\n",
        "\n",
        "for i in range(number_of_classes):\n",
        "    xa = Xtrain_PCA[img_in_class*i:img_in_class*i+img_in_class,:]\n",
        "    for j in xa:\n",
        "        mew[i,:] = np.add(mew[i,:],j)\n",
        "    mew[i,:] = np.divide(mew[i,:],float(len(xa)))\n",
        "\n",
        "for i in Xtrain_PCA:\n",
        "    M = np.add(M,i)\n",
        "M = np.divide(M,float(Xtrain_PCA.shape[0]))"
      ],
      "execution_count": null,
      "outputs": []
    },
    {
      "cell_type": "code",
      "metadata": {
        "id": "_0M4cI_wn6Ru"
      },
      "source": [
        "normalised_wc_proj_sig = np.ndarray(shape=(number_of_classes*img_in_class, pca_components), dtype=np.float64)\n",
        "\n",
        "for i in range(number_of_classes):\n",
        "    for j in range(img_in_class):\n",
        "        normalised_wc_proj_sig[i*img_in_class+j,:] = np.subtract(Xtrain_PCA[i*img_in_class+j,:],mew[i,:])\n",
        "\n",
        "\n",
        "sw = np.zeros((pca_components,pca_components))\n",
        "\n",
        "for i in range(number_of_classes):\n",
        "    xa = normalised_wc_proj_sig[img_in_class*i:img_in_class*i+img_in_class,:]\n",
        "    xa = xa.transpose()\n",
        "    cov = np.dot(xa,xa.T)\n",
        "    sw = sw + cov\n",
        "\n",
        "normalised_class = np.ndarray(shape=(number_of_classes, pca_components), dtype=np.float64)\n",
        "sb = np.zeros((pca_components,pca_components))\n",
        "\n",
        "for i in range(number_of_classes):\n",
        "    normalised_class[i,:] = np.subtract(mew[i,:],M)\n",
        "\n",
        "sb = np.dot(normalised_class.T,normalised_class)\n",
        "sb = np.multiply(sb,float(img_in_class))"
      ],
      "execution_count": null,
      "outputs": []
    },
    {
      "cell_type": "code",
      "metadata": {
        "id": "xagKvgwRiLxx"
      },
      "source": [
        "def delta(x,i,classs):\n",
        "    \n",
        "    n,m = len(x),len(classs)\n",
        "    \n",
        "    if (n != m):\n",
        "        print('vectors of differents sizes, cannot operate delta')\n",
        "        \n",
        "    tmp = i*np.ones(n)-classs\n",
        "\n",
        "    for k in range(n):\n",
        "        if tmp[k]==0:\n",
        "            tmp[k]=1\n",
        "        else:\n",
        "            tmp[k]=0 \n",
        "            \n",
        "    return tmp*x\n",
        "\n",
        "def residu(y,A,x,class_x):\n",
        "    \n",
        "    k = np.max(class_x)+1\n",
        "    r = np.zeros(k)\n",
        "    \n",
        "    for i in range(0,k):\n",
        "        r[i] = np.linalg.norm(y - np.dot(A,delta(x,i,class_x)))\n",
        "        \n",
        "    return r\n",
        "\n",
        "def cost(proj):\n",
        "    multi_b = np.dot(proj.T,np.dot(sb+Eb,proj))\n",
        "    numerator = np.trace(multi_b)\n",
        "    # print(numerator)\n",
        "    multi_w = np.dot(proj.T,np.dot(Ew+sw,proj))\n",
        "    denomenator = np.trace(multi_w)\n",
        "    # print(denomenator)\n",
        "    final_val = numerator/denomenator\n",
        "    # print(final_val)\n",
        "    return final_val"
      ],
      "execution_count": null,
      "outputs": []
    },
    {
      "cell_type": "code",
      "metadata": {
        "id": "xYpDcihFUMbV"
      },
      "source": [
        "num_tr = y_tr.shape[1]\n",
        "Ew = np.zeros((pca_components,pca_components))\n",
        "Withinclass_error = np.ndarray(shape=(number_of_classes*img_in_class, pca_components), dtype=np.float64)\n",
        "for i in range(num_tr):\n",
        "    x = Xtrain_col[:,i]\n",
        "    label = training_label[i]\n",
        "    Xtrain_col = np.delete(Xtrain_col,i,1)\n",
        "    training_label = np.delete(training_label,i)\n",
        "    Withinclass_error[i,:] = x-np.dot(Xtrain_col,delta(sp_re[:,i],label,training_label))\n",
        "    Xtrain_col=np.insert(Xtrain_col,i,x,axis=1)\n",
        "    training_label=np.insert(training_label,i,label)\n",
        "    \n",
        "Ew = np.dot(Withinclass_error.T,Withinclass_error)\n",
        "Ew = Ew/number_of_classes*img_in_class"
      ],
      "execution_count": null,
      "outputs": []
    },
    {
      "cell_type": "code",
      "metadata": {
        "id": "LjGXqVSCiLyC",
        "outputId": "3098711b-f838-49f1-9055-f54a9df582a7",
        "colab": {
          "base_uri": "https://localhost:8080/",
          "height": 243
        }
      },
      "source": [
        "Ew"
      ],
      "execution_count": null,
      "outputs": [
        {
          "output_type": "execute_result",
          "data": {
            "text/plain": [
              "array([[ 1.81249460e-03, -1.45816752e-04,  5.61042296e-04, ...,\n",
              "        -3.74628840e-02, -2.88140613e-01,  3.76210488e-01],\n",
              "       [-1.45816752e-04,  1.86650323e-02, -1.07587634e-03, ...,\n",
              "        -6.57907114e-01,  2.70789456e-01, -7.59814578e-01],\n",
              "       [ 5.61042296e-04, -1.07587634e-03,  8.33439252e-02, ...,\n",
              "         4.87299270e-01, -1.13970206e+00,  1.34721618e+00],\n",
              "       ...,\n",
              "       [-3.74628840e-02, -6.57907114e-01,  4.87299270e-01, ...,\n",
              "         3.83352127e+04, -1.23278383e+03, -2.63230486e+02],\n",
              "       [-2.88140613e-01,  2.70789456e-01, -1.13970206e+00, ...,\n",
              "        -1.23278383e+03,  3.81047589e+04, -6.51102805e+02],\n",
              "       [ 3.76210488e-01, -7.59814578e-01,  1.34721618e+00, ...,\n",
              "        -2.63230486e+02, -6.51102805e+02,  3.92733070e+04]])"
            ]
          },
          "metadata": {
            "tags": []
          },
          "execution_count": 121
        }
      ]
    },
    {
      "cell_type": "code",
      "metadata": {
        "id": "4_qcADLjenkN"
      },
      "source": [
        "from tqdm import tqdm\n",
        "num_data = number_of_classes*img_in_class\n",
        "Eb = np.zeros((pca_components,pca_components))\n",
        "classLabels = np.unique(ytrain)\n",
        "k={}\n",
        "for label in classLabels:  \n",
        "    temp = np.where(training_label!=label)\n",
        "    k.update({label:temp})\n"
      ],
      "execution_count": null,
      "outputs": []
    },
    {
      "cell_type": "code",
      "metadata": {
        "id": "gEn_uSyGiLyW",
        "outputId": "deb7db25-15af-4bb2-d9a6-0594dc745f39",
        "colab": {
          "base_uri": "https://localhost:8080/",
          "height": 34
        }
      },
      "source": [
        "Eb = np.zeros((pca_components,pca_components))\n",
        "Betweenclass_error = np.ndarray(shape=(number_of_classes*img_in_class, pca_components), dtype=np.float64)\n",
        "for i in tqdm(range(num_tr)):\n",
        "    tmp = np.zeros((pca_components))\n",
        "    x = Xtrain_col[:,i]\n",
        "    Xtrain_col = np.delete(Xtrain_col,i,1)\n",
        "    label = training_label[i]\n",
        "    other_label_index=(k[label][0])\n",
        "    for j in range(other_label_index.shape[0]):\n",
        "        other_label = training_label[j]\n",
        "        training_label = np.delete(training_label,j)\n",
        "        tmp += x-(np.dot(Xtrain_col,delta(sp_re[:,j],other_label,training_label)))\n",
        "        training_label=np.insert(training_label,j,other_label)\n",
        "    Betweenclass_error[i,:] = tmp\n",
        "    Xtrain_col=np.insert(Xtrain_col,i,x,axis=1)\n",
        "Eb = np.dot(Betweenclass_error.T,Betweenclass_error)\n",
        "Eb = Eb/(num_data*(number_of_classes-1))"
      ],
      "execution_count": null,
      "outputs": [
        {
          "output_type": "stream",
          "text": [
            "100%|██████████| 992/992 [21:32<00:00,  1.30s/it]\n"
          ],
          "name": "stderr"
        }
      ]
    },
    {
      "cell_type": "code",
      "metadata": {
        "id": "uUH7AoM6iLyc",
        "outputId": "957ec660-8636-4e0d-8904-0dba7606b970",
        "colab": {
          "base_uri": "https://localhost:8080/",
          "height": 243
        }
      },
      "source": [
        "Eb"
      ],
      "execution_count": null,
      "outputs": [
        {
          "output_type": "execute_result",
          "data": {
            "text/plain": [
              "array([[ 2.18955884e-01,  2.48086701e-04, -7.55458933e-04, ...,\n",
              "        -3.23444834e-01, -5.18402824e-01,  2.16935414e-01],\n",
              "       [ 2.48086701e-04,  1.83679539e+00,  3.87301914e-03, ...,\n",
              "         1.84402686e-01,  6.33338575e-02, -1.12247184e-01],\n",
              "       [-7.55458933e-04,  3.87301914e-03,  6.86687646e+00, ...,\n",
              "         1.00805819e+00, -1.24781577e-01, -1.39183679e+00],\n",
              "       ...,\n",
              "       [-3.23444834e-01,  1.84402686e-01,  1.00805819e+00, ...,\n",
              "         1.47071060e+06, -5.33003360e+02,  6.21866625e+01],\n",
              "       [-5.18402824e-01,  6.33338575e-02, -1.24781577e-01, ...,\n",
              "        -5.33003360e+02,  1.49286246e+06, -2.02024134e+02],\n",
              "       [ 2.16935414e-01, -1.12247184e-01, -1.39183679e+00, ...,\n",
              "         6.21866625e+01, -2.02024134e+02,  1.58148682e+06]])"
            ]
          },
          "metadata": {
            "tags": []
          },
          "execution_count": 83
        }
      ]
    },
    {
      "cell_type": "code",
      "metadata": {
        "id": "GVhsIoPYj-B0"
      },
      "source": [
        "beta = 1\n",
        "J = np.dot(np.linalg.inv(sw+(beta*Ew)),(sb+(beta*Eb)))\n",
        "eigenvalues, eigenvectors, = np.linalg.eig(J)"
      ],
      "execution_count": null,
      "outputs": []
    },
    {
      "cell_type": "code",
      "metadata": {
        "id": "TXrXyQY0lLxR"
      },
      "source": [
        "eig_pairs = [(eigenvalues[index], eigenvectors[:,index]) for index in range(len(eigenvalues))]\n",
        "\n",
        "eig_pairs.sort(key=lambda tup:tup[0],reverse=True)\n",
        "eigvalues_sort  = [eig_pairs[index][0] for index in range(len(eigenvalues))]\n",
        "eigvectors_sort = [eig_pairs[index][1] for index in range(len(eigenvalues))]"
      ],
      "execution_count": null,
      "outputs": []
    },
    {
      "cell_type": "code",
      "metadata": {
        "id": "Wl388zKxll99",
        "outputId": "9d7e9868-5f51-430c-ef01-f0ae0f9aab77",
        "colab": {
          "base_uri": "https://localhost:8080/",
          "height": 69
        }
      },
      "source": [
        "print('Number of eigen vectors:',len(eigvalues_sort))\n",
        "print(\"k:\",number_chosen_components)\n",
        "proj_mtx = np.array(eigvectors_sort[:number_chosen_components]).transpose()\n",
        "proj_mtx.shape"
      ],
      "execution_count": null,
      "outputs": [
        {
          "output_type": "stream",
          "text": [
            "Number of eigen vectors: 200\n",
            "k: 140\n"
          ],
          "name": "stdout"
        },
        {
          "output_type": "execute_result",
          "data": {
            "text/plain": [
              "(200, 140)"
            ]
          },
          "metadata": {
            "tags": []
          },
          "execution_count": 126
        }
      ]
    },
    {
      "cell_type": "code",
      "metadata": {
        "id": "aMKrrgSdwLG4",
        "outputId": "47faae70-93f0-47b6-c5d8-4e2b0c034d5a",
        "colab": {
          "base_uri": "https://localhost:8080/",
          "height": 34
        }
      },
      "source": [
        "p_zero[0,:5]"
      ],
      "execution_count": null,
      "outputs": [
        {
          "output_type": "execute_result",
          "data": {
            "text/plain": [
              "array([0.90348221, 0.39308051, 0.62396996, 0.6378774 , 0.88049907])"
            ]
          },
          "metadata": {
            "tags": []
          },
          "execution_count": 26
        }
      ]
    },
    {
      "cell_type": "code",
      "metadata": {
        "id": "i4w8CdT_iLy8",
        "outputId": "8630f767-fda9-4ade-cd12-33293b66f373",
        "colab": {
          "base_uri": "https://localhost:8080/",
          "height": 34
        }
      },
      "source": [
        "proj_mtx[0,:5]"
      ],
      "execution_count": null,
      "outputs": [
        {
          "output_type": "execute_result",
          "data": {
            "text/plain": [
              "array([-0.17274474, -0.68918031, -0.48925921,  0.82355211,  0.14763142])"
            ]
          },
          "metadata": {
            "tags": []
          },
          "execution_count": 127
        }
      ]
    },
    {
      "cell_type": "code",
      "metadata": {
        "id": "FmqEkLdEwX1q"
      },
      "source": [
        "proj_mtx = proj_mtx.real"
      ],
      "execution_count": null,
      "outputs": []
    },
    {
      "cell_type": "code",
      "metadata": {
        "id": "Sy0Ll7rxVJKr",
        "outputId": "44f573b8-af2c-452c-89c0-f1c7808ba7b6",
        "colab": {
          "base_uri": "https://localhost:8080/",
          "height": 34
        }
      },
      "source": [
        "cost(proj_mtx)"
      ],
      "execution_count": null,
      "outputs": [
        {
          "output_type": "execute_result",
          "data": {
            "text/plain": [
              "23.639834878174376"
            ]
          },
          "metadata": {
            "tags": []
          },
          "execution_count": 128
        }
      ]
    },
    {
      "cell_type": "code",
      "metadata": {
        "id": "nMe2RU-rkJg7",
        "outputId": "809f38de-3403-4639-8374-3ec33b013386",
        "colab": {
          "base_uri": "https://localhost:8080/",
          "height": 34
        }
      },
      "source": [
        "cost(p_zero)"
      ],
      "execution_count": null,
      "outputs": [
        {
          "output_type": "execute_result",
          "data": {
            "text/plain": [
              "19.061783236577952"
            ]
          },
          "metadata": {
            "tags": []
          },
          "execution_count": 129
        }
      ]
    },
    {
      "cell_type": "code",
      "metadata": {
        "id": "KhycoZv5iLzT",
        "outputId": "21fb23ad-e976-4d07-a590-d5924bf5a006",
        "colab": {
          "base_uri": "https://localhost:8080/",
          "height": 34
        }
      },
      "source": [
        "cost(proj_mtx)-cost(p_zero)"
      ],
      "execution_count": null,
      "outputs": [
        {
          "output_type": "execute_result",
          "data": {
            "text/plain": [
              "4.578051641596424"
            ]
          },
          "metadata": {
            "tags": []
          },
          "execution_count": 130
        }
      ]
    },
    {
      "cell_type": "code",
      "metadata": {
        "id": "HVZNxYD3jkie"
      },
      "source": [
        "def training(p_zero,proj_mtx,Xtrain_col,training_label):\n",
        " \n",
        "    p_k = proj_mtx.real\n",
        "    p_k_1 = p_zero.real\n",
        "    eta = 0.0001\n",
        "    while cost(p_k)-cost(p_k_1) > eta:\n",
        "        y_tr = p_k.transpose().dot(Xtrain_col)\n",
        "        sp_re = np.zeros(shape=(y_tr.shape[1]-1,y_tr.shape[1]))\n",
        "        for i in range(y_tr.shape[1]):  \n",
        "            clf = Lasso(alpha)\n",
        "            y = y_tr[:,i]\n",
        "            y_tr = np.delete(y_tr,i,1)\n",
        "            clf.fit(y_tr,y)\n",
        "            y_tr=np.insert(y_tr,i,y,axis=1)\n",
        "            sp_re[:,i] = clf.coef_\n",
        "\n",
        "      \n",
        "        num_tr = y_tr.shape[1]\n",
        "\n",
        "        Ew = np.zeros((pca_components,pca_components))\n",
        "        Withinclass_error = np.ndarray(shape=(number_of_classes*img_in_class, pca_components), dtype=np.float64)\n",
        "        for i in range(num_tr):\n",
        "            x = Xtrain_col[:,i]\n",
        "            label = training_label[i]\n",
        "            Xtrain_col = np.delete(Xtrain_col,i,1)\n",
        "            training_label = np.delete(training_label,i)\n",
        "            Withinclass_error[i,:] = x-np.dot(Xtrain_col,delta(sp_re[:,i],label,training_label))\n",
        "            Xtrain_col=np.insert(Xtrain_col,i,x,axis=1)\n",
        "            training_label=np.insert(training_label,i,label)\n",
        "\n",
        "        Ew = np.dot(Withinclass_error.T,Withinclass_error)\n",
        "        Ew = Ew/number_of_classes*img_in_class\n",
        "\n",
        "      # cal Eb\n",
        "        Eb = np.zeros((pca_components,pca_components))\n",
        "        Betweenclass_error = np.ndarray(shape=(number_of_classes*img_in_class, pca_components), dtype=np.float64)\n",
        "        for i in tqdm(range(num_tr)):\n",
        "            tmp = np.zeros((pca_components))\n",
        "            x = Xtrain_col[:,i]\n",
        "            Xtrain_col = np.delete(Xtrain_col,i,1)\n",
        "            label = training_label[i]\n",
        "            other_label_index=(k[label][0])\n",
        "            for j in range(other_label_index.shape[0]):\n",
        "                other_label = training_label[j]\n",
        "                training_label = np.delete(training_label,j)\n",
        "                tmp += x-(np.dot(Xtrain_col,delta(sp_re[:,j],other_label,training_label)))\n",
        "                training_label=np.insert(training_label,j,other_label)\n",
        "            Betweenclass_error[i,:] = tmp\n",
        "            Xtrain_col=np.insert(Xtrain_col,i,x,axis=1)\n",
        "        Eb = np.dot(Betweenclass_error.T,Betweenclass_error)\n",
        "        Eb = Eb/(num_data*(number_of_classes-1))\n",
        "        \n",
        "        J = np.dot(np.linalg.inv(sw+(beta*Ew)),(sb+(beta*Eb)))\n",
        "        eigenvalues, eigenvectors, = np.linalg.eig(J)\n",
        "        eig_pairs = [(eigenvalues[index], eigenvectors[:,index]) for index in range(len(eigenvalues))]\n",
        "\n",
        "        eig_pairs.sort(key=lambda tup:tup[0],reverse=True)\n",
        "        eigvalues_sort  = [eig_pairs[index][0] for index in range(len(eigenvalues))]\n",
        "        eigvectors_sort = [eig_pairs[index][1] for index in range(len(eigenvalues))]\n",
        "        proj_mtx = np.array(eigvectors_sort[:number_chosen_components]).transpose()    \n",
        "        p_k_1 = p_k\n",
        "        p_k = proj_mtx.real\n",
        "    return p_k   \n"
      ],
      "execution_count": null,
      "outputs": []
    },
    {
      "cell_type": "code",
      "metadata": {
        "id": "NJlxpHWUlHZA"
      },
      "source": [
        "def test(proj_mtx,training_label):\n",
        "  training_label=training_label.astype(int)\n",
        "  y_tr = proj_mtx.transpose().dot(Xtrain_col)\n",
        "  sp_re_test = np.zeros((num_tr,len(Xtest)))\n",
        "  y_te = proj_mtx.transpose().dot(Xtest_col)\n",
        "\n",
        "  print('Finding Sparse repre.:....')\n",
        "  for i in tqdm(range(y_te.shape[1])):    \n",
        "      clf = Lasso(alpha=0.01)\n",
        "      y = y_te[:,i]\n",
        "      clf.fit(y_tr,y)\n",
        "      sp_re_test[:,i] = clf.coef_\n",
        "\n",
        "\n",
        "  pred_class_test = np.zeros(y_te.shape[1])\n",
        "  for i in tqdm(range(y_te.shape[1])):\n",
        "      y = y_te[:,i]\n",
        "      label = ytest[i]\n",
        "      pred_class_test[i] = np.argmin(residu(y,y_tr,sp_re_test[:,i],training_label))\n",
        "\n",
        "  pred_class_test = pred_class_test.astype(int)\n",
        "  correct_prediction = 0\n",
        "  for i in range(y_te.shape[1]):\n",
        "      if(ytest[i]==pred_class_test[i]):\n",
        "          correct_prediction=correct_prediction+1\n",
        "\n",
        "  print('Correct Prediction:',correct_prediction)\n",
        "  print('Accuracy:',correct_prediction/y_te.shape[1]*100)\n"
      ],
      "execution_count": null,
      "outputs": []
    },
    {
      "cell_type": "code",
      "metadata": {
        "id": "hMCB4ObsS3pg"
      },
      "source": [
        "test(proj_mtx,training_label)"
      ],
      "execution_count": null,
      "outputs": []
    },
    {
      "cell_type": "code",
      "metadata": {
        "id": "ePJBzCBfK2lR"
      },
      "source": [
        "p_k = np.random.rand(pca_components,number_chosen_components)\n",
        "p_k = training(p_zero,proj_mtx,Xtrain_col,training_label)\n",
        "test(p_k,training_label)"
      ],
      "execution_count": null,
      "outputs": []
    },
    {
      "cell_type": "code",
      "metadata": {
        "id": "T4pi7KCldlav",
        "outputId": "cb7b3eb1-d5cc-4ec5-8286-48941dbe2ade",
        "colab": {
          "base_uri": "https://localhost:8080/",
          "height": 34
        }
      },
      "source": [
        "cost(p_k)"
      ],
      "execution_count": null,
      "outputs": [
        {
          "output_type": "execute_result",
          "data": {
            "text/plain": [
              "36.77984276907252"
            ]
          },
          "metadata": {
            "tags": []
          },
          "execution_count": 139
        }
      ]
    },
    {
      "cell_type": "code",
      "metadata": {
        "id": "8R46j_6KdqnW",
        "outputId": "de944945-72cb-401d-e237-a0e1075816be",
        "colab": {
          "base_uri": "https://localhost:8080/",
          "height": 34
        }
      },
      "source": [
        "cost(proj_mtx)"
      ],
      "execution_count": null,
      "outputs": [
        {
          "output_type": "execute_result",
          "data": {
            "text/plain": [
              "23.639834878174376"
            ]
          },
          "metadata": {
            "tags": []
          },
          "execution_count": 140
        }
      ]
    },
    {
      "cell_type": "markdown",
      "metadata": {
        "id": "BUtWyKcq286A"
      },
      "source": [
        "\n",
        "# ***Exp-1 divide eigen vector by eigenvalue's square root*** "
      ]
    },
    {
      "cell_type": "code",
      "metadata": {
        "id": "tBKNXqd2qdTn"
      },
      "source": [
        "eig_pairs_1 = [(eigenvalues[index], eigenvectors[:,index]/np.sqrt(eigenvalues[index])) for index in range(len(eigenvalues))]\n",
        "\n",
        "eig_pairs_1.sort(key=lambda tup:tup[0],reverse=True)\n",
        "eigvalues_sort_1  = [eig_pairs_1[index][0] for index in range(len(eigenvalues))]\n",
        "eigvectors_sort_1 = [eig_pairs_1[index][1] for index in range(len(eigenvalues))]\n",
        "proj_mtx_1 = np.array(eigvectors_sort_1[:number_chosen_components]).transpose()\n",
        "proj_mtx_1 = proj_mtx_1.real "
      ],
      "execution_count": null,
      "outputs": []
    },
    {
      "cell_type": "code",
      "metadata": {
        "id": "m37Re1POuF2s",
        "outputId": "e8038360-79f4-4d2d-fa13-4cab32f86795",
        "colab": {
          "base_uri": "https://localhost:8080/",
          "height": 156
        }
      },
      "source": [
        "p_k = np.random.rand(pca_components,number_chosen_components)\n",
        "p_k = training(p_zero,proj_mtx_1,Xtrain_col,training_label)\n",
        "test(p_k,training_label)"
      ],
      "execution_count": null,
      "outputs": [
        {
          "output_type": "stream",
          "text": [
            "100%|██████████| 992/992 [21:47<00:00,  1.32s/it]\n",
            "100%|██████████| 992/992 [21:21<00:00,  1.29s/it]\n",
            "100%|██████████| 992/992 [21:23<00:00,  1.29s/it]\n",
            "  0%|          | 4/992 [00:00<00:32, 30.21it/s]"
          ],
          "name": "stderr"
        },
        {
          "output_type": "stream",
          "text": [
            "Finding Sparse repre.:....\n"
          ],
          "name": "stdout"
        },
        {
          "output_type": "stream",
          "text": [
            "100%|██████████| 992/992 [00:36<00:00, 26.94it/s]\n",
            "100%|██████████| 992/992 [00:39<00:00, 24.95it/s]"
          ],
          "name": "stderr"
        },
        {
          "output_type": "stream",
          "text": [
            "Correct Prediction: 966\n",
            "Accuracy: 97.37903225806451\n"
          ],
          "name": "stdout"
        },
        {
          "output_type": "stream",
          "text": [
            "\n"
          ],
          "name": "stderr"
        }
      ]
    },
    {
      "cell_type": "markdown",
      "metadata": {
        "id": "gHYhOaDl9ckR"
      },
      "source": [
        "# ***EXP-2 Take half eigen vectors***"
      ]
    },
    {
      "cell_type": "code",
      "metadata": {
        "id": "fvhVf59vwiFu"
      },
      "source": [
        "proj_mtx = np.array(eigvectors_sort[:number_chosen_components]).transpose()\n",
        "p1 = np.zeros((pca_components,int(number_chosen_components/2)))\n",
        "index = 0\n",
        "for i in range(0,number_chosen_components-1,2):\n",
        "    p1[:,index] = proj_mtx[:,i]+proj_mtx[:,i+1]/2\n",
        "    index+=1"
      ],
      "execution_count": null,
      "outputs": []
    },
    {
      "cell_type": "code",
      "metadata": {
        "id": "wIKOgWQM4gM4",
        "outputId": "9184f46c-f2ac-4eac-e2e2-7f28a0027e17",
        "colab": {
          "base_uri": "https://localhost:8080/",
          "height": 104
        }
      },
      "source": [
        "test(p1,training_label)"
      ],
      "execution_count": null,
      "outputs": [
        {
          "output_type": "stream",
          "text": [
            "  0%|          | 4/992 [00:00<00:24, 39.65it/s]"
          ],
          "name": "stderr"
        },
        {
          "output_type": "stream",
          "text": [
            "Finding Sparse repre.:....\n"
          ],
          "name": "stdout"
        },
        {
          "output_type": "stream",
          "text": [
            "100%|██████████| 992/992 [00:39<00:00, 24.87it/s]\n",
            "100%|██████████| 992/992 [00:39<00:00, 24.95it/s]"
          ],
          "name": "stderr"
        },
        {
          "output_type": "stream",
          "text": [
            "Correct Prediction: 949\n",
            "Accuracy: 95.66532258064517\n"
          ],
          "name": "stdout"
        },
        {
          "output_type": "stream",
          "text": [
            "\n"
          ],
          "name": "stderr"
        }
      ]
    },
    {
      "cell_type": "markdown",
      "metadata": {
        "id": "tmtemOgaQ4e9"
      },
      "source": [
        "# ***EXP 3 Take half eigen vectors from exp 1***"
      ]
    },
    {
      "cell_type": "code",
      "metadata": {
        "id": "AoaGzqKT41TD",
        "outputId": "8bc3ae76-cad1-4e0c-d2b2-c8e297e1e2e1",
        "colab": {
          "base_uri": "https://localhost:8080/",
          "height": 156
        }
      },
      "source": [
        "# proj_mtx = np.array(eigvectors_sort[:number_chosen_components]).transpose()\n",
        "p1_1_2 = np.zeros((pca_components,int(number_chosen_components/2)))\n",
        "index = 0\n",
        "for i in range(0,number_chosen_components-1,2):\n",
        "    p1_1_2[:,index] = proj_mtx_1[:,i]+proj_mtx_1[:,i+1]/2\n",
        "    index+=1\n",
        "\n",
        "test(p1_1_2,training_label)"
      ],
      "execution_count": null,
      "outputs": [
        {
          "output_type": "stream",
          "text": [
            "100%|██████████| 992/992 [00:03<00:00, 302.12it/s]\n",
            "  0%|          | 0/992 [00:00<?, ?it/s]\n",
            "100%|██████████| 992/992 [00:40<00:00, 24.34it/s]"
          ],
          "name": "stderr"
        },
        {
          "output_type": "stream",
          "text": [
            "Correct Prediction: 926\n",
            "Accuracy: 93.34677419354838\n",
            "Correct Prediction: 926\n",
            "Accuracy: 93.34677419354838\n"
          ],
          "name": "stdout"
        },
        {
          "output_type": "stream",
          "text": [
            "\n",
            "\n"
          ],
          "name": "stderr"
        }
      ]
    },
    {
      "cell_type": "markdown",
      "metadata": {
        "id": "LKCIU51tRDS6"
      },
      "source": [
        "# ***EXP 3.1 Weighted avarage of eigen vectors from exp 1***"
      ]
    },
    {
      "cell_type": "code",
      "metadata": {
        "id": "w2wOGZ0p-lC2",
        "outputId": "4e31b1ce-d907-492f-d134-3e3379f92338",
        "colab": {
          "base_uri": "https://localhost:8080/",
          "height": 191
        }
      },
      "source": [
        "# proj_mtx = np.array(eigvectors_sort[:number_chosen_components]).transpose()\n",
        "p1_1_3 = np.zeros((pca_components,int(number_chosen_components/2)))\n",
        "index = 0\n",
        "for i in range(0,number_chosen_components-1,2):\n",
        "    p1_1_3[:,index] = (eigenvalues[i]*proj_mtx_1[:,i])+(eigenvalues[i+1]*proj_mtx_1[:,i+1])/(eigenvalues[i]+eigenvalues[i+1])\n",
        "    index+=1\n",
        "\n",
        "test(p1_1_3,training_label)"
      ],
      "execution_count": null,
      "outputs": [
        {
          "output_type": "stream",
          "text": [
            "  0%|          | 1/992 [00:00<01:55,  8.59it/s]"
          ],
          "name": "stderr"
        },
        {
          "output_type": "stream",
          "text": [
            "Finding Sparse repre.:....\n",
            "Finding Sparse repre.:....\n"
          ],
          "name": "stdout"
        },
        {
          "output_type": "stream",
          "text": [
            "100%|██████████| 992/992 [01:57<00:00,  8.42it/s]\n",
            "  0%|          | 0/992 [00:00<?, ?it/s]\n",
            "100%|██████████| 992/992 [00:40<00:00, 24.45it/s]"
          ],
          "name": "stderr"
        },
        {
          "output_type": "stream",
          "text": [
            "Correct Prediction: 935\n",
            "Accuracy: 94.25403225806451\n",
            "Correct Prediction: 935\n",
            "Accuracy: 94.25403225806451\n"
          ],
          "name": "stdout"
        },
        {
          "output_type": "stream",
          "text": [
            "\n",
            "\n"
          ],
          "name": "stderr"
        }
      ]
    },
    {
      "cell_type": "markdown",
      "metadata": {
        "id": "svFTpkMeRXOD"
      },
      "source": [
        "# ***EXP 4***"
      ]
    },
    {
      "cell_type": "code",
      "metadata": {
        "id": "lzoh2cJODIc0",
        "outputId": "0b1d9c5d-e400-47ac-bb31-8a91bb35fc00",
        "colab": {
          "base_uri": "https://localhost:8080/",
          "height": 52
        }
      },
      "source": [
        "sp_re = np.zeros(shape=(Xtrain_col.shape[1]-1,Xtrain_col.shape[1]))\n",
        "for i in range(Xtrain_col.shape[1]):  \n",
        "    clf = Lasso(alpha)\n",
        "    y = Xtrain_col[:,i]\n",
        "    Xtrain_col = np.delete(Xtrain_col,i,1)\n",
        "    clf.fit(Xtrain_col,y)\n",
        "    Xtrain_col=np.insert(Xtrain_col,i,y,axis=1)\n",
        "    sp_re[:,i] = clf.coef_\n",
        "\n",
        "num_tr = Xtrain_col.shape[1]\n",
        "\n",
        "Ew_new = np.zeros((pca_components,pca_components))\n",
        "Withinclass_error_new = np.ndarray(shape=(number_of_classes*img_in_class, pca_components), dtype=np.float64)\n",
        "for i in range(num_tr):\n",
        "    x = Xtrain_col[:,i]\n",
        "    label = training_label[i]\n",
        "    Xtrain_col = np.delete(Xtrain_col,i,1)\n",
        "    training_label = np.delete(training_label,i)\n",
        "    Withinclass_error_new[i,:] = x-np.dot(Xtrain_col,delta(sp_re[:,i],label,training_label))\n",
        "    Xtrain_col=np.insert(Xtrain_col,i,x,axis=1)\n",
        "    training_label=np.insert(training_label,i,label)\n",
        "\n",
        "Ew_new = np.dot(Withinclass_error_new.T,Withinclass_error_new)\n",
        "Ew_new = Ew_new/number_of_classes*img_in_class\n",
        "\n",
        " \n",
        "Eb_new = np.zeros((pca_components,pca_components))\n",
        "Betweenclass_error_new = np.ndarray(shape=(number_of_classes*img_in_class, pca_components), dtype=np.float64)\n",
        "for i in tqdm(range(num_tr)):\n",
        "    tmp = np.zeros((pca_components))\n",
        "    x = Xtrain_col[:,i]\n",
        "    Xtrain_col = np.delete(Xtrain_col,i,1)\n",
        "    label = training_label[i]\n",
        "    other_label_index=(k[label][0])\n",
        "    for j in range(other_label_index.shape[0]):\n",
        "        other_label = training_label[j]\n",
        "        training_label = np.delete(training_label,j)\n",
        "        tmp += x-(np.dot(Xtrain_col,delta(sp_re[:,j],other_label,training_label)))\n",
        "        training_label=np.insert(training_label,j,other_label)\n",
        "    Betweenclass_error_new[i,:] = tmp\n",
        "    Xtrain_col=np.insert(Xtrain_col,i,x,axis=1)\n",
        "Eb_new = np.dot(Betweenclass_error_new.T,Betweenclass_error_new)\n",
        "Eb_new = Eb_new/(num_data*(number_of_classes-1))\n"
      ],
      "execution_count": null,
      "outputs": [
        {
          "output_type": "stream",
          "text": [
            "100%|██████████| 992/992 [21:31<00:00,  1.30s/it]\n",
            "\n"
          ],
          "name": "stderr"
        }
      ]
    },
    {
      "cell_type": "code",
      "metadata": {
        "id": "SXpiCfHGGC5k"
      },
      "source": [
        "# beta = 3\n",
        "J = np.dot(np.linalg.inv(sw+(beta*Ew_new)),(sb+(beta*Eb_new)))\n",
        "eigenvalues, eigenvectors, = np.linalg.eig(J)\n",
        "eig_pairs = [(eigenvalues[index], eigenvectors[:,index]) for index in range(len(eigenvalues))]\n",
        "\n",
        "eig_pairs.sort(key=lambda tup:tup[0],reverse=True)\n",
        "eigvalues_sort  = [eig_pairs[index][0] for index in range(len(eigenvalues))]\n",
        "eigvectors_sort = [eig_pairs[index][1] for index in range(len(eigenvalues))]\n",
        "p_zero_1 = np.array(eigvectors_sort[:number_chosen_components]).transpose() "
      ],
      "execution_count": null,
      "outputs": []
    },
    {
      "cell_type": "code",
      "metadata": {
        "id": "iTBkwClCHeCr",
        "outputId": "e04e7e88-6a83-409b-9916-9a986696ae0f",
        "colab": {
          "base_uri": "https://localhost:8080/",
          "height": 191
        }
      },
      "source": [
        "test(p_zero_1,training_label)"
      ],
      "execution_count": null,
      "outputs": [
        {
          "output_type": "stream",
          "text": [
            "  0%|          | 4/992 [00:00<00:31, 30.98it/s]"
          ],
          "name": "stderr"
        },
        {
          "output_type": "stream",
          "text": [
            "Finding Sparse repre.:....\n"
          ],
          "name": "stdout"
        },
        {
          "output_type": "stream",
          "text": [
            "  0%|          | 4/992 [00:00<00:31, 30.98it/s]"
          ],
          "name": "stderr"
        },
        {
          "output_type": "stream",
          "text": [
            "Finding Sparse repre.:....\n"
          ],
          "name": "stdout"
        },
        {
          "output_type": "stream",
          "text": [
            "100%|██████████| 992/992 [00:36<00:00, 27.22it/s]\n",
            "  0%|          | 0/992 [00:00<?, ?it/s]\n",
            "100%|██████████| 992/992 [00:41<00:00, 23.98it/s]"
          ],
          "name": "stderr"
        },
        {
          "output_type": "stream",
          "text": [
            "Correct Prediction: 968\n",
            "Accuracy: 97.58064516129032\n",
            "Correct Prediction: 968\n",
            "Accuracy: 97.58064516129032\n"
          ],
          "name": "stdout"
        },
        {
          "output_type": "stream",
          "text": [
            "\n",
            "\n"
          ],
          "name": "stderr"
        }
      ]
    },
    {
      "cell_type": "code",
      "metadata": {
        "id": "ajBC_6nwIQkS",
        "outputId": "ebce53df-9b6f-403f-e046-dafaa5e7ae31",
        "colab": {
          "base_uri": "https://localhost:8080/",
          "height": 52
        }
      },
      "source": [
        "p_zero_1=p_zero_1.real\n",
        "y_tr_init = p_zero_1.transpose().dot(Xtrain_col)\n",
        "sp_re_init = np.zeros(shape=(y_tr.shape[1]-1,y_tr.shape[1]))\n",
        "for i in range(y_tr.shape[1]):  \n",
        "    clf = Lasso(alpha)\n",
        "    y = y_tr_init[:,i]\n",
        "    y_tr_init = np.delete(y_tr_init,i,1)\n",
        "    clf.fit(y_tr_init,y)\n",
        "    y_tr_init=np.insert(y_tr_init,i,y,axis=1)\n",
        "    sp_re_init[:,i] = clf.coef_\n",
        "\n",
        "\n",
        "Ew_1 = np.zeros((pca_components,pca_components))\n",
        "Withinclass_error_1 = np.ndarray(shape=(number_of_classes*img_in_class, pca_components), dtype=np.float64)\n",
        "for i in range(num_tr):\n",
        "    x = Xtrain_col[:,i]\n",
        "    label = training_label[i]\n",
        "    Xtrain_col = np.delete(Xtrain_col,i,1)\n",
        "    training_label = np.delete(training_label,i)\n",
        "    Withinclass_error_1[i,:] = x-np.dot(Xtrain_col,delta(sp_re_init[:,i],label,training_label))\n",
        "    Xtrain_col=np.insert(Xtrain_col,i,x,axis=1)\n",
        "    training_label=np.insert(training_label,i,label)\n",
        "\n",
        "Ew_1 = np.dot(Withinclass_error_1.T,Withinclass_error_1)\n",
        "Ew_1 = Ew_1/number_of_classes*img_in_class\n",
        "\n",
        "\n",
        "Eb_1 = np.zeros((pca_components,pca_components))\n",
        "Betweenclass_error_1 = np.ndarray(shape=(number_of_classes*img_in_class, pca_components), dtype=np.float64)\n",
        "for i in tqdm(range(num_tr)):\n",
        "    tmp = np.zeros((pca_components))\n",
        "    x = Xtrain_col[:,i]\n",
        "    Xtrain_col = np.delete(Xtrain_col,i,1)\n",
        "    label = training_label[i]\n",
        "    other_label_index=(k[label][0])\n",
        "    for j in range(other_label_index.shape[0]):\n",
        "        other_label = training_label[j]\n",
        "        training_label = np.delete(training_label,j)\n",
        "        tmp += x-(np.dot(Xtrain_col,delta(sp_re_init[:,j],other_label,training_label)))\n",
        "        training_label=np.insert(training_label,j,other_label)\n",
        "    Betweenclass_error_1[i,:] = tmp\n",
        "    Xtrain_col=np.insert(Xtrain_col,i,x,axis=1)\n",
        "Eb_1 = np.dot(Betweenclass_error_1.T,Betweenclass_error_1)\n",
        "Eb_1 = Eb_1/(num_data*(number_of_classes-1))\n",
        "\n",
        "J = np.dot(np.linalg.inv(sw+(beta*Ew_1)),sb+(beta*Eb_1))\n",
        "eigenvalues, eigenvectors, = np.linalg.eig(J)\n",
        "eig_pairs = [(eigenvalues[index], eigenvectors[:,index]) for index in range(len(eigenvalues))]\n",
        "\n",
        "eig_pairs.sort(key=lambda tup:tup[0],reverse=True)\n",
        "eigvalues_sort  = [eig_pairs[index][0] for index in range(len(eigenvalues))]\n",
        "eigvectors_sort = [eig_pairs[index][1] for index in range(len(eigenvalues))]\n",
        "proj_mtx_new = np.array(eigvectors_sort[:number_chosen_components]).transpose()"
      ],
      "execution_count": null,
      "outputs": [
        {
          "output_type": "stream",
          "text": [
            "100%|██████████| 992/992 [21:30<00:00,  1.30s/it]\n",
            "\n"
          ],
          "name": "stderr"
        }
      ]
    },
    {
      "cell_type": "code",
      "metadata": {
        "id": "I5faZwmaKkAB"
      },
      "source": [
        "p_k_new = np.random.rand(pca_components,number_chosen_components)\n",
        "proj_mtx_new = proj_mtx_new.real\n",
        "p_k_new = training(p_zero_1,proj_mtx_new,Xtrain_col,training_label)"
      ],
      "execution_count": null,
      "outputs": []
    },
    {
      "cell_type": "code",
      "metadata": {
        "id": "-VkkPHq_IVj-"
      },
      "source": [
        "cost(proj_mtx_new)-cost(p_zero_1)"
      ],
      "execution_count": null,
      "outputs": []
    },
    {
      "cell_type": "code",
      "metadata": {
        "id": "y_ZMEmm9KXwQ"
      },
      "source": [
        "cost(p_k)"
      ],
      "execution_count": null,
      "outputs": []
    },
    {
      "cell_type": "code",
      "metadata": {
        "id": "5uXbLtB9JROj",
        "outputId": "f2d39739-58f0-4c6a-a431-1d487ef1fafe",
        "colab": {
          "base_uri": "https://localhost:8080/",
          "height": 156
        }
      },
      "source": [
        "test(p_k,training_label)"
      ],
      "execution_count": null,
      "outputs": [
        {
          "output_type": "stream",
          "text": [
            "100%|██████████| 992/992 [00:36<00:00, 27.05it/s]\n",
            "\n",
            "100%|██████████| 992/992 [00:41<00:00, 24.07it/s]"
          ],
          "name": "stderr"
        },
        {
          "output_type": "stream",
          "text": [
            "Correct Prediction: 966\n",
            "Accuracy: 97.37903225806451\n",
            "Correct Prediction: 966\n",
            "Accuracy: 97.37903225806451\n"
          ],
          "name": "stdout"
        },
        {
          "output_type": "stream",
          "text": [
            "\n",
            "\n"
          ],
          "name": "stderr"
        }
      ]
    }
  ]
}