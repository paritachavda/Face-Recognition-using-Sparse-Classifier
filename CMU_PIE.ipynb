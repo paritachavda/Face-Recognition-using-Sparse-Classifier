{
  "nbformat": 4,
  "nbformat_minor": 0,
  "metadata": {
    "colab": {
      "name": "CMU_PIE.ipynb",
      "provenance": [],
      "collapsed_sections": [],
      "authorship_tag": "ABX9TyMPNYCT+CjdQVpPNuamlUvk",
      "include_colab_link": true
    },
    "kernelspec": {
      "name": "python3",
      "display_name": "Python 3"
    }
  },
  "cells": [
    {
      "cell_type": "markdown",
      "metadata": {
        "id": "view-in-github",
        "colab_type": "text"
      },
      "source": [
        "<a href=\"https://colab.research.google.com/github/paritachavda/Face-Recognition-using-Sparse-Classifier/blob/main/CMU_PIE.ipynb\" target=\"_parent\"><img src=\"https://colab.research.google.com/assets/colab-badge.svg\" alt=\"Open In Colab\"/></a>"
      ]
    },
    {
      "cell_type": "markdown",
      "source": [
        "# **Sparse representation based classifier on CMU-PIE dataset**\n",
        "*   Dataset Info: It has 65 person’s face data for 43 variable lightning scenarios along with 4 facial expressions(Total Images: 2795)\n",
        "*   Training:22 images per person(1430 images)\n",
        "*  Testing: 21 images per person(1365 images)\n",
        "*  Original dimension:4096\n",
        "*  Reduced dimension: 60\n",
        "*   Accuracy: 98.90% \n",
        "\n",
        "\n",
        "\n",
        "\n",
        "\n",
        "\n"
      ],
      "metadata": {
        "id": "gzsM7bBzn9y1"
      }
    },
    {
      "cell_type": "code",
      "metadata": {
        "id": "Rb0qxLZPlEBa",
        "colab": {
          "base_uri": "https://localhost:8080/"
        },
        "outputId": "e4f29f1c-3593-4f49-8531-733a661571b2"
      },
      "source": [
        "from google.colab import drive\n",
        "drive.mount('/content/drive')"
      ],
      "execution_count": null,
      "outputs": [
        {
          "output_type": "stream",
          "name": "stdout",
          "text": [
            "Mounted at /content/drive\n"
          ]
        }
      ]
    },
    {
      "cell_type": "code",
      "metadata": {
        "id": "E78rKFI1m0uM"
      },
      "source": [
        "import numpy as np\n",
        "from PIL import Image\n",
        "import os, sys"
      ],
      "execution_count": null,
      "outputs": []
    },
    {
      "cell_type": "code",
      "metadata": {
        "id": "yMbBj9RslRVM"
      },
      "source": [
        "def read_images(path, sz=None):     \n",
        "    c=0\n",
        "    # count=0\n",
        "    X,y = [], []\n",
        "    for dirname , dirnames , filenames in os.walk(path):\n",
        "        for subdirname in dirnames:\n",
        "            subject_path = os.path.join(dirname , subdirname) \n",
        "            \n",
        "            for filename in os.listdir(subject_path):\n",
        "                    if filename.endswith('.jpg'):\n",
        "                        # count=count+1\n",
        "                        im = Image.open(os.path.join(subject_path , filename))\n",
        "                        # print(count) \n",
        "                        if (sz is not None):\n",
        "                            im = im.resize(sz, Image.NEAREST)     \n",
        "                            X.append(np.asarray(im, dtype=np.uint8)) \n",
        "                            y.append(c) \n",
        "                \n",
        "            \n",
        "            c = c+1          \n",
        "    \n",
        "    return [X,y]"
      ],
      "execution_count": null,
      "outputs": []
    },
    {
      "cell_type": "code",
      "metadata": {
        "id": "kV5c9YfLlUGF",
        "outputId": "8c75f06b-7d99-4623-a58b-24a5afae02fd",
        "colab": {
          "base_uri": "https://localhost:8080/"
        }
      },
      "source": [
        "path_images = '/content/drive/My Drive/thesis/dataset/CMU/piedb_lights' \n",
        "X1,y1 = read_images(path_images, sz=(64,64))\n",
        "print(\"Number of loaded items \",len(X1))"
      ],
      "execution_count": null,
      "outputs": [
        {
          "output_type": "stream",
          "name": "stdout",
          "text": [
            "Number of loaded items  1430\n"
          ]
        }
      ]
    },
    {
      "cell_type": "code",
      "metadata": {
        "id": "fB3jN9U8mvdf",
        "outputId": "cb47bcda-4980-4a1c-8979-4d6262554a26",
        "colab": {
          "base_uri": "https://localhost:8080/"
        }
      },
      "source": [
        "path_images = '/content/drive/My Drive/thesis/dataset/CMU/piedb_nolights' \n",
        "X2,y2 = read_images(path_images, sz=(64,64))\n",
        "print(\"Number of loaded items \",len(X2))"
      ],
      "execution_count": null,
      "outputs": [
        {
          "output_type": "stream",
          "name": "stdout",
          "text": [
            "Number of loaded items  1365\n"
          ]
        }
      ]
    },
    {
      "cell_type": "code",
      "metadata": {
        "id": "wpdJA9Hfn6hR"
      },
      "source": [
        "X = X1 + X2\n",
        "y = y1 + y2"
      ],
      "execution_count": null,
      "outputs": []
    },
    {
      "cell_type": "code",
      "metadata": {
        "id": "YzONkNKW8qeD",
        "outputId": "c320e17e-68ed-479f-b72f-a80506aa6607",
        "colab": {
          "base_uri": "https://localhost:8080/"
        }
      },
      "source": [
        "import collections\n",
        "my_dict = collections.defaultdict(int)\n",
        "for i in y:\n",
        "    my_dict[i] += 1\n",
        "temp = min(my_dict.items(), key=lambda x: x[1])\n",
        "print(temp)\n",
        "min_num_img = temp[1]\n",
        "# my_dict"
      ],
      "execution_count": null,
      "outputs": [
        {
          "output_type": "stream",
          "name": "stdout",
          "text": [
            "(0, 43)\n"
          ]
        }
      ]
    },
    {
      "cell_type": "code",
      "metadata": {
        "id": "Xw8awA5CuDi2",
        "outputId": "65b72369-7d4a-4d48-9b9c-e8556d84ee1a",
        "colab": {
          "base_uri": "https://localhost:8080/"
        }
      },
      "source": [
        "np.random.seed(2020)\n",
        "\n",
        "Xtrain, Xtest = [], []\n",
        "ytrain, ytest = [], []\n",
        "\n",
        "for i in range(len(X)):\n",
        "    if i%43==0:\n",
        "        train = np.random.choice(43,22,replace=False)\n",
        "#         print(train)  \n",
        "    if ((i%43 in train)):\n",
        "        Xtrain.append(X[i])\n",
        "        ytrain.append(y[i])        \n",
        "    else:\n",
        "        Xtest.append(X[i])\n",
        "        ytest.append(y[i])      \n",
        "\n",
        "len(Xtrain)"
      ],
      "execution_count": null,
      "outputs": [
        {
          "output_type": "execute_result",
          "data": {
            "text/plain": [
              "1430"
            ]
          },
          "metadata": {},
          "execution_count": 8
        }
      ]
    },
    {
      "cell_type": "code",
      "metadata": {
        "id": "RAeQKhzxvwXu"
      },
      "source": [
        "img_in_class = 22\n",
        "number_of_classes = 65\n",
        "width = 64\n",
        "height = 64\n",
        "\n",
        "training_data = np.zeros((number_of_classes*img_in_class,width*height))\n",
        "training_label = np.array(ytrain)\n",
        "\n",
        "for index in range(len(Xtrain)):\n",
        "    training_data[index] = Xtrain[index].flatten()\n"
      ],
      "execution_count": null,
      "outputs": []
    },
    {
      "cell_type": "code",
      "metadata": {
        "id": "WaICLBqh2ruN"
      },
      "source": [
        "training_data_col = training_data.T"
      ],
      "execution_count": null,
      "outputs": []
    },
    {
      "cell_type": "code",
      "metadata": {
        "id": "j1bF3xpT-W4n",
        "outputId": "63dee9a9-7bdf-465a-edd5-4659a6424916",
        "colab": {
          "base_uri": "https://localhost:8080/"
        }
      },
      "source": [
        "training_data_col"
      ],
      "execution_count": null,
      "outputs": [
        {
          "output_type": "execute_result",
          "data": {
            "text/plain": [
              "array([[ 31., 133., 117., ...,   4.,   3.,  19.],\n",
              "       [ 40., 168., 161., ...,   4.,   5.,  23.],\n",
              "       [ 42., 173., 153., ...,   5.,   6.,  25.],\n",
              "       ...,\n",
              "       [149., 143., 170., ...,  20.,  24.,  17.],\n",
              "       [148., 141., 169., ...,  22.,  27.,  20.],\n",
              "       [147., 136., 165., ...,  29.,  35.,  26.]])"
            ]
          },
          "metadata": {},
          "execution_count": 12
        }
      ]
    },
    {
      "cell_type": "code",
      "metadata": {
        "id": "KWaC3YyxAQWX"
      },
      "source": [
        "X_toconcat_test = [np.reshape(e,(Xtest[0].shape[0]*Xtest[0].shape[1],1)) for e in Xtest]\n",
        "test_data_col = np.concatenate(X_toconcat_test,axis=1)"
      ],
      "execution_count": null,
      "outputs": []
    },
    {
      "cell_type": "code",
      "metadata": {
        "id": "HCqB_-5Pj94e",
        "outputId": "3d53b32b-4eb2-489f-ce2f-fba46a9c2d3d",
        "colab": {
          "base_uri": "https://localhost:8080/"
        }
      },
      "source": [
        "test_data_col.shape"
      ],
      "execution_count": null,
      "outputs": [
        {
          "output_type": "execute_result",
          "data": {
            "text/plain": [
              "(4096, 1365)"
            ]
          },
          "metadata": {},
          "execution_count": 14
        }
      ]
    },
    {
      "cell_type": "code",
      "metadata": {
        "id": "ZSFLHGEWkCxq"
      },
      "source": [
        "from sklearn.decomposition import PCA\n",
        "\n",
        "def eigenfaces(X_train,X_test,n_components=200):  \n",
        "    pca = PCA(n_components=n_components, svd_solver='randomized',\n",
        "      whiten=True).fit(X_train)\n",
        "    X_train_pca = pca.transform(X_train)\n",
        "    X_test_pca = pca.transform(X_test)\n",
        "    return X_train_pca, X_test_pca  "
      ],
      "execution_count": null,
      "outputs": []
    },
    {
      "cell_type": "code",
      "metadata": {
        "id": "H7k5CqsTkG7E"
      },
      "source": [
        "from sklearn.preprocessing import StandardScaler\n",
        "\n",
        "ss = StandardScaler()\n",
        "Xtrain_std = ss.fit_transform(training_data_col)\n",
        "Xtest_std = ss.fit_transform(test_data_col)\n",
        "\n",
        "Xtrain_PCA, Xtest_PCA = eigenfaces(Xtrain_std.T,Xtest_std.T,n_components=200)\n",
        "Xtrain_col, Xtest_col = Xtrain_PCA.T, Xtest_PCA.T"
      ],
      "execution_count": null,
      "outputs": []
    },
    {
      "cell_type": "code",
      "metadata": {
        "id": "lhiBdhzLkRhN"
      },
      "source": [
        "np.random.seed(2020)\n",
        "from numpy.random import rand\n",
        "\n",
        "alpha = 0.010\n",
        "pca_components = 200\n",
        "number_chosen_components = 60\n",
        "\n",
        "\n",
        "p_zero = np.random.rand(pca_components,number_chosen_components)\n",
        "y_tr = p_zero.transpose().dot(Xtrain_col)"
      ],
      "execution_count": null,
      "outputs": []
    },
    {
      "cell_type": "code",
      "metadata": {
        "id": "l_rVUzRnkUfW",
        "outputId": "ac09f8e2-8c2d-4b04-aef6-371b69823da1",
        "colab": {
          "base_uri": "https://localhost:8080/"
        }
      },
      "source": [
        "print(p_zero)"
      ],
      "execution_count": null,
      "outputs": [
        {
          "output_type": "stream",
          "name": "stdout",
          "text": [
            "[[0.98627683 0.87339195 0.50974552 ... 0.9360322  0.80302764 0.69730515]\n",
            " [0.46138428 0.66243461 0.74966564 ... 0.60901857 0.45241441 0.29665953]\n",
            " [0.63061983 0.50703485 0.37025605 ... 0.39607047 0.60080567 0.46052199]\n",
            " ...\n",
            " [0.3650466  0.21767066 0.22357723 ... 0.62339902 0.45720097 0.87616655]\n",
            " [0.22183812 0.90937865 0.92639384 ... 0.86232088 0.45779093 0.2088607 ]\n",
            " [0.53720375 0.25427287 0.39369349 ... 0.10206991 0.32914715 0.73528457]]\n"
          ]
        }
      ]
    },
    {
      "cell_type": "code",
      "metadata": {
        "id": "ptK6UD3890Gu",
        "outputId": "fe159772-4756-49fa-d4d5-e527dfc9cfe4",
        "colab": {
          "base_uri": "https://localhost:8080/"
        }
      },
      "source": [
        "y_tr.shape"
      ],
      "execution_count": null,
      "outputs": [
        {
          "output_type": "execute_result",
          "data": {
            "text/plain": [
              "(60, 1430)"
            ]
          },
          "metadata": {},
          "execution_count": 20
        }
      ]
    },
    {
      "cell_type": "code",
      "metadata": {
        "id": "FAbsyD41kY-y",
        "outputId": "0f31b9c2-b615-4710-e591-6a1ba0aef377",
        "colab": {
          "base_uri": "https://localhost:8080/"
        }
      },
      "source": [
        "y_tr"
      ],
      "execution_count": null,
      "outputs": [
        {
          "output_type": "execute_result",
          "data": {
            "text/plain": [
              "array([[-13.10987732,  -0.47508582,  -1.10519729, ...,  15.82867245,\n",
              "          6.684658  ,  15.17797427],\n",
              "       [-18.96266834,   0.3907273 ,  -4.87863487, ...,  15.22133665,\n",
              "          3.63918946,  13.35727259],\n",
              "       [-13.20073759,  -3.22586347,  -5.73936881, ...,   2.8450328 ,\n",
              "         -6.35007118,  18.74033076],\n",
              "       ...,\n",
              "       [-11.27914853,   3.04599404,  -0.32766779, ...,  10.8936437 ,\n",
              "          4.94481287,  15.98555801],\n",
              "       [ -8.28539242,   0.94651035,   0.77237365, ...,   6.03973607,\n",
              "         -0.67828446,   5.25654876],\n",
              "       [-15.81099289,  -0.09676502,  -0.55668821, ...,   4.13900068,\n",
              "         -5.38444434,  14.37724444]])"
            ]
          },
          "metadata": {},
          "execution_count": 21
        }
      ]
    },
    {
      "cell_type": "code",
      "metadata": {
        "id": "xemPOdDNkbZ6",
        "outputId": "068e64e4-ac82-4a93-9ab5-45b78d5e4aa2",
        "colab": {
          "base_uri": "https://localhost:8080/"
        }
      },
      "source": [
        "import warnings\n",
        "warnings.filterwarnings('ignore')\n",
        "\n",
        "from sklearn.linear_model import Lasso\n",
        "from tqdm import tqdm\n",
        "\n",
        "sp_re = np.zeros(shape=(y_tr.shape[1]-1,y_tr.shape[1]))\n",
        "for i in tqdm(range(y_tr.shape[1])):  \n",
        "    clf = Lasso(alpha)\n",
        "    y = y_tr[:,i]\n",
        "    y_tr = np.delete(y_tr,i,1)\n",
        "    clf.fit(y_tr,y)\n",
        "    y_tr=np.insert(y_tr,i,y,axis=1)\n",
        "    sp_re[:,i] = clf.coef_"
      ],
      "execution_count": null,
      "outputs": [
        {
          "output_type": "stream",
          "name": "stderr",
          "text": [
            "100%|██████████| 1430/1430 [03:33<00:00,  6.71it/s]\n"
          ]
        }
      ]
    },
    {
      "cell_type": "code",
      "metadata": {
        "id": "ifiN7S1Ukh_z"
      },
      "source": [
        "mew = np.zeros((number_of_classes, pca_components))\n",
        "M = np.zeros((1,pca_components))\n",
        "\n",
        "for i in range(number_of_classes):\n",
        "    xa = Xtrain_PCA[img_in_class*i:img_in_class*i+img_in_class,:]\n",
        "    for j in xa:\n",
        "        mew[i,:] = np.add(mew[i,:],j)\n",
        "    mew[i,:] = np.divide(mew[i,:],float(len(xa)))\n",
        "\n",
        "for i in Xtrain_PCA:\n",
        "    M = np.add(M,i)\n",
        "M = np.divide(M,float(Xtrain_PCA.shape[0]))"
      ],
      "execution_count": null,
      "outputs": []
    },
    {
      "cell_type": "code",
      "metadata": {
        "id": "OJ9iFVDBkvQx"
      },
      "source": [
        "normalised_wc_proj_sig = np.ndarray(shape=(number_of_classes*img_in_class, pca_components), dtype=np.float64)\n",
        "\n",
        "for i in range(number_of_classes):\n",
        "    for j in range(img_in_class):\n",
        "        normalised_wc_proj_sig[i*img_in_class+j,:] = np.subtract(Xtrain_PCA[i*img_in_class+j,:],mew[i,:])\n",
        "\n",
        "\n",
        "sw = np.zeros((pca_components,pca_components))\n",
        "\n",
        "for i in range(number_of_classes):\n",
        "    xa = normalised_wc_proj_sig[img_in_class*i:img_in_class*i+img_in_class,:]\n",
        "    xa = xa.transpose()\n",
        "    cov = np.dot(xa,xa.T)\n",
        "    sw = sw + cov\n",
        "\n",
        "normalised_class = np.ndarray(shape=(number_of_classes, pca_components), dtype=np.float64)\n",
        "sb = np.zeros((pca_components,pca_components))\n",
        "\n",
        "for i in range(number_of_classes):\n",
        "    normalised_class[i,:] = np.subtract(mew[i,:],M)\n",
        "\n",
        "sb = np.dot(normalised_class.T,normalised_class)\n",
        "sb = np.multiply(sb,float(img_in_class))"
      ],
      "execution_count": null,
      "outputs": []
    },
    {
      "cell_type": "code",
      "metadata": {
        "id": "iRF1lXI9kz89",
        "outputId": "1eec9ac7-0c4d-4d72-e8a6-d22d7e1ae461",
        "colab": {
          "base_uri": "https://localhost:8080/"
        }
      },
      "source": [
        "sw"
      ],
      "execution_count": null,
      "outputs": [
        {
          "output_type": "execute_result",
          "data": {
            "text/plain": [
              "array([[1394.11267386,   13.60939032,   -9.81961869, ...,   -3.70896771,\n",
              "           9.28632288,   -6.47191482],\n",
              "       [  13.60939032, 1260.26843472,   56.30589967, ...,   -5.26541228,\n",
              "           6.65704028,    5.94736593],\n",
              "       [  -9.81961869,   56.30589967,  868.89134384, ...,   12.02518101,\n",
              "          15.05600625,  -15.62380406],\n",
              "       ...,\n",
              "       [  -3.70896771,   -5.26541228,   12.02518101, ..., 1316.29524207,\n",
              "          39.14900655,  -21.95815406],\n",
              "       [   9.28632288,    6.65704028,   15.05600625, ...,   39.14900655,\n",
              "        1314.06306201,   23.57003419],\n",
              "       [  -6.47191482,    5.94736593,  -15.62380406, ...,  -21.95815406,\n",
              "          23.57003419, 1308.53012049]])"
            ]
          },
          "metadata": {},
          "execution_count": 26
        }
      ]
    },
    {
      "cell_type": "code",
      "metadata": {
        "id": "7sehdjlak23K",
        "outputId": "e28b5871-c066-4cb4-8872-78fd917f2f18",
        "colab": {
          "base_uri": "https://localhost:8080/"
        }
      },
      "source": [
        "sb"
      ],
      "execution_count": null,
      "outputs": [
        {
          "output_type": "execute_result",
          "data": {
            "text/plain": [
              "array([[ 34.88732614, -13.60939032,   9.81961869, ...,   3.70896771,\n",
              "         -9.28632288,   6.47191482],\n",
              "       [-13.60939032, 168.73156528, -56.30589967, ...,   5.26541228,\n",
              "         -6.65704028,  -5.94736593],\n",
              "       [  9.81961869, -56.30589967, 560.10865616, ..., -12.02518101,\n",
              "        -15.05600625,  15.62380406],\n",
              "       ...,\n",
              "       [  3.70896771,   5.26541228, -12.02518101, ..., 112.70475793,\n",
              "        -39.14900655,  21.95815406],\n",
              "       [ -9.28632288,  -6.65704028, -15.05600625, ..., -39.14900655,\n",
              "        114.93693799, -23.57003419],\n",
              "       [  6.47191482,  -5.94736593,  15.62380406, ...,  21.95815406,\n",
              "        -23.57003419, 120.46987951]])"
            ]
          },
          "metadata": {},
          "execution_count": 27
        }
      ]
    },
    {
      "cell_type": "code",
      "metadata": {
        "id": "CONsrphek3ei"
      },
      "source": [
        "def delta(x,i,classs):\n",
        "    \n",
        "    n,m = len(x),len(classs)\n",
        "    \n",
        "    if (n != m):\n",
        "        print('vectors of differents sizes, cannot operate delta')\n",
        "        \n",
        "    tmp = i*np.ones(n)-classs\n",
        "\n",
        "    for k in range(n):\n",
        "        if tmp[k]==0:\n",
        "            tmp[k]=1\n",
        "        else:\n",
        "            tmp[k]=0 \n",
        "            \n",
        "    return tmp*x\n",
        "\n",
        "def residu(y,A,x,class_x):\n",
        "    \n",
        "    k = np.max(class_x)+1\n",
        "    r = np.zeros(k)\n",
        "    \n",
        "    for i in range(0,k):\n",
        "        r[i] = np.linalg.norm(y - np.dot(A,delta(x,i,class_x)))\n",
        "        \n",
        "    return r\n",
        "\n",
        "def cost(proj):\n",
        "    multi_b = np.dot(proj.T,np.dot(sb+Eb,proj))\n",
        "    numerator = np.trace(multi_b)\n",
        "    multi_w = np.dot(proj.T,np.dot(Ew+sw,proj))\n",
        "    denomenator = np.trace(multi_w)\n",
        "    final_val = numerator/denomenator\n",
        "    return final_val"
      ],
      "execution_count": null,
      "outputs": []
    },
    {
      "cell_type": "code",
      "metadata": {
        "id": "ssQgPgQ-06sh",
        "outputId": "2b99f87c-1207-4bff-c688-2ef7308f9c05",
        "colab": {
          "base_uri": "https://localhost:8080/"
        }
      },
      "source": [
        "y_tr.shape"
      ],
      "execution_count": null,
      "outputs": [
        {
          "output_type": "execute_result",
          "data": {
            "text/plain": [
              "(60, 1430)"
            ]
          },
          "metadata": {},
          "execution_count": 29
        }
      ]
    },
    {
      "cell_type": "code",
      "metadata": {
        "id": "fYTq__hUk7Xu"
      },
      "source": [
        "num_tr = y_tr.shape[1]\n",
        "Ew = np.zeros((pca_components,pca_components))\n",
        "Withinclass_error = np.ndarray(shape=(number_of_classes*img_in_class, pca_components), dtype=np.float64)\n",
        "for i in range(num_tr):\n",
        "    x = Xtrain_col[:,i]\n",
        "    label = training_label[i]\n",
        "    Xtrain_col = np.delete(Xtrain_col,i,1)\n",
        "    training_label = np.delete(training_label,i)\n",
        "    Withinclass_error[i,:] = x-np.dot(Xtrain_col,delta(sp_re[:,i],label,training_label))\n",
        "    Xtrain_col=np.insert(Xtrain_col,i,x,axis=1)\n",
        "    training_label=np.insert(training_label,i,label)\n",
        "    \n",
        "Ew = np.dot(Withinclass_error.T,Withinclass_error)\n",
        "Ew = Ew/number_of_classes*img_in_class"
      ],
      "execution_count": null,
      "outputs": []
    },
    {
      "cell_type": "code",
      "metadata": {
        "id": "LSbkS4gnk9kQ",
        "outputId": "68290c4c-e638-404f-ed32-c21aa2ee98ce",
        "colab": {
          "base_uri": "https://localhost:8080/"
        }
      },
      "source": [
        "Ew"
      ],
      "execution_count": null,
      "outputs": [
        {
          "output_type": "execute_result",
          "data": {
            "text/plain": [
              "array([[ 77.09164592,   1.79924839,  -3.82423469, ...,   3.55960996,\n",
              "          8.7231235 ,   0.57746173],\n",
              "       [  1.79924839, 140.8718602 ,   5.30938427, ...,  -0.28900886,\n",
              "          3.40639385,  10.99329451],\n",
              "       [ -3.82423469,   5.30938427,  32.15174141, ...,  -3.14134659,\n",
              "         -3.58699878,  -1.64847609],\n",
              "       ...,\n",
              "       [  3.55960996,  -0.28900886,  -3.14134659, ..., 252.68170987,\n",
              "         26.15073539, -21.61782406],\n",
              "       [  8.7231235 ,   3.40639385,  -3.58699878, ...,  26.15073539,\n",
              "        274.43746502,  16.27763682],\n",
              "       [  0.57746173,  10.99329451,  -1.64847609, ..., -21.61782406,\n",
              "         16.27763682, 251.06771301]])"
            ]
          },
          "metadata": {},
          "execution_count": 31
        }
      ]
    },
    {
      "cell_type": "code",
      "metadata": {
        "id": "jpDaxGgmk_1P"
      },
      "source": [
        "from tqdm import tqdm\n",
        "num_data = number_of_classes*img_in_class\n",
        "\n",
        "classLabels = np.unique(ytrain)\n",
        "k={}\n",
        "for label in classLabels:  \n",
        "    temp = np.where(training_label!=label)\n",
        "    k.update({label:temp})\n"
      ],
      "execution_count": null,
      "outputs": []
    },
    {
      "cell_type": "code",
      "metadata": {
        "id": "oN1vadD2lCni",
        "outputId": "36b894eb-4393-4ac2-a711-43480b220545",
        "colab": {
          "base_uri": "https://localhost:8080/"
        }
      },
      "source": [
        "Eb = np.zeros((pca_components,pca_components))\n",
        "Betweenclass_error = np.ndarray(shape=(number_of_classes*img_in_class, pca_components), dtype=np.float64)\n",
        "for i in tqdm(range(num_tr)):\n",
        "    tmp = np.zeros((pca_components))\n",
        "    x = Xtrain_col[:,i]\n",
        "    Xtrain_col = np.delete(Xtrain_col,i,1)\n",
        "    label = training_label[i]\n",
        "    other_label_index=(k[label][0])\n",
        "    for j in range(other_label_index.shape[0]):\n",
        "        other_label = training_label[j]\n",
        "        training_label = np.delete(training_label,j)\n",
        "        tmp += x-(np.dot(Xtrain_col,delta(sp_re[:,j],other_label,training_label)))\n",
        "        training_label=np.insert(training_label,j,other_label)\n",
        "    Betweenclass_error[i,:] = tmp\n",
        "    Xtrain_col=np.insert(Xtrain_col,i,x,axis=1)\n",
        "Eb = np.dot(Betweenclass_error.T,Betweenclass_error)\n",
        "Eb = Eb/(num_data*(number_of_classes-1))"
      ],
      "execution_count": 33,
      "outputs": [
        {
          "output_type": "stream",
          "name": "stderr",
          "text": [
            "100%|██████████| 1430/1430 [59:00<00:00,  2.48s/it]\n"
          ]
        }
      ]
    },
    {
      "cell_type": "code",
      "metadata": {
        "id": "p40Z5f3jlE-c",
        "colab": {
          "base_uri": "https://localhost:8080/"
        },
        "outputId": "d69f9a0c-0764-4f4c-da75-a5d123a11457"
      },
      "source": [
        "Eb"
      ],
      "execution_count": 34,
      "outputs": [
        {
          "output_type": "execute_result",
          "data": {
            "text/plain": [
              "array([[ 3.09598591e+04,  1.44133927e+01, -4.95856491e+00, ...,\n",
              "         8.25919146e+00, -6.20195129e+00, -1.98955354e-01],\n",
              "       [ 1.44133927e+01,  3.09678119e+04,  2.57887095e+01, ...,\n",
              "        -3.78582838e+01,  4.94730410e+00, -3.75605258e+01],\n",
              "       [-4.95856491e+00,  2.57887095e+01,  3.09570759e+04, ...,\n",
              "        -1.69008536e+01, -1.19012182e+01, -1.39475666e+01],\n",
              "       ...,\n",
              "       [ 8.25919146e+00, -3.78582838e+01, -1.69008536e+01, ...,\n",
              "         3.09753408e+04,  5.62481356e+00,  3.17532619e-01],\n",
              "       [-6.20195129e+00,  4.94730410e+00, -1.19012182e+01, ...,\n",
              "         5.62481356e+00,  3.09814575e+04, -4.14571601e+00],\n",
              "       [-1.98955354e-01, -3.75605258e+01, -1.39475666e+01, ...,\n",
              "         3.17532619e-01, -4.14571601e+00,  3.09720186e+04]])"
            ]
          },
          "metadata": {},
          "execution_count": 34
        }
      ]
    },
    {
      "cell_type": "code",
      "source": [
        "def test(proj_mtx,training_label):\n",
        "    training_label=training_label.astype(int)\n",
        "    y_tr = proj_mtx.transpose().dot(Xtrain_col)\n",
        "    sp_re_test = np.zeros((num_tr,len(Xtest)))\n",
        "    y_te = proj_mtx.transpose().dot(Xtest_col)\n",
        "\n",
        "    # print('Finding Sparse repre.:....')\n",
        "    for i in tqdm(range(y_te.shape[1])):    \n",
        "        clf = Lasso(alpha=0.01)\n",
        "        y = y_te[:,i]\n",
        "        clf.fit(y_tr,y)\n",
        "        sp_re_test[:,i] = clf.coef_\n",
        "\n",
        "\n",
        "    pred_class_test = np.zeros(y_te.shape[1])\n",
        "    for i in tqdm(range(y_te.shape[1])):\n",
        "        y = y_te[:,i]\n",
        "        label = ytest[i]\n",
        "        pred_class_test[i] = np.argmin(residu(y,y_tr,sp_re_test[:,i],training_label))\n",
        "\n",
        "    pred_class_test = pred_class_test.astype(int)\n",
        "    correct_prediction = 0\n",
        "    for i in range(y_te.shape[1]):\n",
        "        if(ytest[i]==pred_class_test[i]):\n",
        "            correct_prediction=correct_prediction+1\n",
        "\n",
        "    print('Correct Prediction:',correct_prediction)\n",
        "    print('Accuracy:',correct_prediction/y_te.shape[1]*100)\n"
      ],
      "metadata": {
        "id": "_sBRHUut6lOj"
      },
      "execution_count": 36,
      "outputs": []
    },
    {
      "cell_type": "code",
      "metadata": {
        "id": "XhLOKFCoBgjW",
        "colab": {
          "base_uri": "https://localhost:8080/"
        },
        "outputId": "d7ac12aa-66d6-4016-ba70-daffe97cf195"
      },
      "source": [
        "J_dp = np.dot(np.linalg.inv((Ew)),((Eb)))\n",
        "eigenvalues_dp, eigenvectors_dp, = np.linalg.eig(J_dp)\n",
        "eig_pairs_dp = [(eigenvalues_dp[index], eigenvectors_dp[:,index]) for index in range(len(eigenvalues_dp))]\n",
        "eig_pairs_dp.sort(key=lambda tup:tup[0],reverse=True)\n",
        "eigvalues_sort_dp  = [eig_pairs_dp[index][0] for index in range(len(eigenvalues_dp))]\n",
        "eigvectors_sort_dp = [eig_pairs_dp[index][1] for index in range(len(eigenvalues_dp))]\n",
        "print('Number of eigen vectors:',len(eigvalues_sort_dp))\n",
        "print(\"k:\",number_chosen_components)\n",
        "proj_mtx_dp = np.array(eigvectors_sort_dp[:number_chosen_components]).transpose()\n",
        "correct_prediction_dp = test(proj_mtx_dp,training_label)"
      ],
      "execution_count": 37,
      "outputs": [
        {
          "output_type": "stream",
          "name": "stdout",
          "text": [
            "Number of eigen vectors: 200\n",
            "k: 60\n"
          ]
        },
        {
          "output_type": "stream",
          "name": "stderr",
          "text": [
            "100%|██████████| 1365/1365 [02:09<00:00, 10.53it/s]\n",
            "100%|██████████| 1365/1365 [02:33<00:00,  8.89it/s]"
          ]
        },
        {
          "output_type": "stream",
          "name": "stdout",
          "text": [
            "Correct Prediction: 1328\n",
            "Accuracy: 97.28937728937728\n"
          ]
        },
        {
          "output_type": "stream",
          "name": "stderr",
          "text": [
            "\n"
          ]
        }
      ]
    },
    {
      "cell_type": "code",
      "metadata": {
        "id": "4D3XH_eplM0c",
        "colab": {
          "base_uri": "https://localhost:8080/"
        },
        "outputId": "2df2fe91-4590-43f3-8e11-d40a002ea8d4"
      },
      "source": [
        "beta = 1\n",
        "J = np.dot(np.linalg.inv(sw+(beta*Ew)),(sb+(beta*Eb)))\n",
        "eigenvalues, eigenvectors, = np.linalg.eig(J)\n",
        "eig_pairs = [(eigenvalues[index], eigenvectors[:,index]) for index in range(len(eigenvalues))]\n",
        "\n",
        "eig_pairs.sort(key=lambda tup:tup[0],reverse=True)\n",
        "eigvalues_sort  = [eig_pairs[index][0] for index in range(len(eigenvalues))]\n",
        "eigvectors_sort = [eig_pairs[index][1] for index in range(len(eigenvalues))]\n",
        "print('Number of eigen vectors:',len(eigvalues_sort))\n",
        "print(\"k:\",number_chosen_components)\n",
        "proj_mtx = np.array(eigvectors_sort[:number_chosen_components]).transpose()"
      ],
      "execution_count": 38,
      "outputs": [
        {
          "output_type": "stream",
          "name": "stdout",
          "text": [
            "Number of eigen vectors: 200\n",
            "k: 60\n"
          ]
        }
      ]
    },
    {
      "cell_type": "code",
      "metadata": {
        "id": "Z3-GwgmFSHgc",
        "colab": {
          "base_uri": "https://localhost:8080/"
        },
        "outputId": "8ffdd820-f1b2-4327-a580-75af8ae35c15"
      },
      "source": [
        "test(proj_mtx,training_label)"
      ],
      "execution_count": 39,
      "outputs": [
        {
          "output_type": "stream",
          "name": "stderr",
          "text": [
            "100%|██████████| 1365/1365 [01:40<00:00, 13.60it/s]\n",
            "100%|██████████| 1365/1365 [02:32<00:00,  8.93it/s]"
          ]
        },
        {
          "output_type": "stream",
          "name": "stdout",
          "text": [
            "Correct Prediction: 1350\n",
            "Accuracy: 98.9010989010989\n"
          ]
        },
        {
          "output_type": "stream",
          "name": "stderr",
          "text": [
            "\n"
          ]
        }
      ]
    },
    {
      "cell_type": "code",
      "metadata": {
        "id": "GhNyysqon1xI",
        "colab": {
          "base_uri": "https://localhost:8080/"
        },
        "outputId": "e19c824c-96c5-4c38-f2ef-116b8868bc62"
      },
      "source": [
        "# proj_mtx = np.array(eigvectors_sort[:number_chosen_components]).transpose()\n",
        "p1 = np.zeros((pca_components,int(number_chosen_components/2)))\n",
        "index = 0\n",
        "end = int(number_chosen_components/2) \n",
        "for i in range(0,end):\n",
        "    p1[:,index] = proj_mtx[:,i]+proj_mtx[:,end+i]/2\n",
        "    # print(i)\n",
        "    index+=1\n",
        "test(p1,training_label)"
      ],
      "execution_count": 40,
      "outputs": [
        {
          "output_type": "stream",
          "name": "stderr",
          "text": [
            "100%|██████████| 1365/1365 [02:20<00:00,  9.69it/s]\n",
            "100%|██████████| 1365/1365 [02:27<00:00,  9.25it/s]"
          ]
        },
        {
          "output_type": "stream",
          "name": "stdout",
          "text": [
            "Correct Prediction: 1240\n",
            "Accuracy: 90.84249084249085\n"
          ]
        },
        {
          "output_type": "stream",
          "name": "stderr",
          "text": [
            "\n"
          ]
        }
      ]
    },
    {
      "cell_type": "code",
      "metadata": {
        "id": "kA_oUACjpIV7"
      },
      "source": [
        "def training(p_zero,proj_mtx,Xtrain_col,training_label):\n",
        " \n",
        "    p_k = proj_mtx.real\n",
        "    p_k_1 = p_zero.real\n",
        "    eta = 0.0001\n",
        "    while cost(p_k)-cost(p_k_1) > eta:\n",
        "        y_tr = p_k.transpose().dot(Xtrain_col)\n",
        "        sp_re = np.zeros(shape=(y_tr.shape[1]-1,y_tr.shape[1]))\n",
        "        for i in range(y_tr.shape[1]):  \n",
        "            clf = Lasso(alpha)\n",
        "            y = y_tr[:,i]\n",
        "            y_tr = np.delete(y_tr,i,1)\n",
        "            clf.fit(y_tr,y)\n",
        "            y_tr=np.insert(y_tr,i,y,axis=1)\n",
        "            sp_re[:,i] = clf.coef_\n",
        "\n",
        "      \n",
        "        num_tr = y_tr.shape[1]\n",
        "\n",
        "        Ew = np.zeros((pca_components,pca_components))\n",
        "        Withinclass_error = np.ndarray(shape=(number_of_classes*img_in_class, pca_components), dtype=np.float64)\n",
        "        for i in range(num_tr):\n",
        "            x = Xtrain_col[:,i]\n",
        "            label = training_label[i]\n",
        "            Xtrain_col = np.delete(Xtrain_col,i,1)\n",
        "            training_label = np.delete(training_label,i)\n",
        "            Withinclass_error[i,:] = x-np.dot(Xtrain_col,delta(sp_re[:,i],label,training_label))\n",
        "            Xtrain_col=np.insert(Xtrain_col,i,x,axis=1)\n",
        "            training_label=np.insert(training_label,i,label)\n",
        "\n",
        "        Ew = np.dot(Withinclass_error.T,Withinclass_error)\n",
        "        Ew = Ew/number_of_classes*img_in_class\n",
        "\n",
        "      # cal Eb\n",
        "        Eb = np.zeros((pca_components,pca_components))\n",
        "        Betweenclass_error = np.ndarray(shape=(number_of_classes*img_in_class, pca_components), dtype=np.float64)\n",
        "        for i in tqdm(range(num_tr)):\n",
        "            tmp = np.zeros((pca_components))\n",
        "            x = Xtrain_col[:,i]\n",
        "            Xtrain_col = np.delete(Xtrain_col,i,1)\n",
        "            label = training_label[i]\n",
        "            other_label_index=(k[label][0])\n",
        "            for j in range(other_label_index.shape[0]):\n",
        "                other_label = training_label[j]\n",
        "                training_label = np.delete(training_label,j)\n",
        "                tmp += x-(np.dot(Xtrain_col,delta(sp_re[:,j],other_label,training_label)))\n",
        "                training_label=np.insert(training_label,j,other_label)\n",
        "            Betweenclass_error[i,:] = tmp\n",
        "            Xtrain_col=np.insert(Xtrain_col,i,x,axis=1)\n",
        "        Eb = np.dot(Betweenclass_error.T,Betweenclass_error)\n",
        "        Eb = Eb/(num_data*(number_of_classes-1))\n",
        "        \n",
        "        J = np.dot(np.linalg.inv(sw+(beta*Ew)),(sb+(beta*Eb)))\n",
        "        eigenvalues, eigenvectors, = np.linalg.eig(J)\n",
        "        eig_pairs = [(eigenvalues[index], eigenvectors[:,index]) for index in range(len(eigenvalues))]\n",
        "\n",
        "        eig_pairs.sort(key=lambda tup:tup[0],reverse=True)\n",
        "        eigvalues_sort  = [eig_pairs[index][0] for index in range(len(eigenvalues))]\n",
        "        eigvectors_sort = [eig_pairs[index][1] for index in range(len(eigenvalues))]\n",
        "        proj_mtx = np.array(eigvectors_sort[:number_chosen_components]).transpose()    \n",
        "        p_k_1 = p_k\n",
        "        p_k = proj_mtx.real\n",
        "    return p_k   \n"
      ],
      "execution_count": 41,
      "outputs": []
    },
    {
      "cell_type": "code",
      "metadata": {
        "id": "y7uqcAGkr8pV",
        "colab": {
          "base_uri": "https://localhost:8080/"
        },
        "outputId": "fe2790df-ac0a-4fa5-e7f4-08211a00b1d0"
      },
      "source": [
        "sp_re = np.zeros(shape=(Xtrain_col.shape[1]-1,Xtrain_col.shape[1]))\n",
        "for i in range(Xtrain_col.shape[1]):  \n",
        "    clf = Lasso(alpha)\n",
        "    y = Xtrain_col[:,i]\n",
        "    Xtrain_col = np.delete(Xtrain_col,i,1)\n",
        "    clf.fit(Xtrain_col,y)\n",
        "    Xtrain_col=np.insert(Xtrain_col,i,y,axis=1)\n",
        "    sp_re[:,i] = clf.coef_\n",
        "\n",
        "num_tr = Xtrain_col.shape[1]\n",
        "\n",
        "Ew_new = np.zeros((pca_components,pca_components))\n",
        "Withinclass_error_new = np.ndarray(shape=(number_of_classes*img_in_class, pca_components), dtype=np.float64)\n",
        "for i in range(num_tr):\n",
        "    x = Xtrain_col[:,i]\n",
        "    label = training_label[i]\n",
        "    Xtrain_col = np.delete(Xtrain_col,i,1)\n",
        "    training_label = np.delete(training_label,i)\n",
        "    Withinclass_error_new[i,:] = x-np.dot(Xtrain_col,delta(sp_re[:,i],label,training_label))\n",
        "    Xtrain_col=np.insert(Xtrain_col,i,x,axis=1)\n",
        "    training_label=np.insert(training_label,i,label)\n",
        "\n",
        "Ew_new = np.dot(Withinclass_error_new.T,Withinclass_error_new)\n",
        "Ew_new = Ew_new/number_of_classes*img_in_class\n",
        "\n",
        " \n",
        "Eb_new = np.zeros((pca_components,pca_components))\n",
        "Betweenclass_error_new = np.ndarray(shape=(number_of_classes*img_in_class, pca_components), dtype=np.float64)\n",
        "for i in tqdm(range(num_tr)):\n",
        "    tmp = np.zeros((pca_components))\n",
        "    x = Xtrain_col[:,i]\n",
        "    Xtrain_col = np.delete(Xtrain_col,i,1)\n",
        "    label = training_label[i]\n",
        "    other_label_index=(k[label][0])\n",
        "    for j in range(other_label_index.shape[0]):\n",
        "        other_label = training_label[j]\n",
        "        training_label = np.delete(training_label,j)\n",
        "        tmp += x-(np.dot(Xtrain_col,delta(sp_re[:,j],other_label,training_label)))\n",
        "        training_label=np.insert(training_label,j,other_label)\n",
        "    Betweenclass_error_new[i,:] = tmp\n",
        "    Xtrain_col=np.insert(Xtrain_col,i,x,axis=1)\n",
        "Eb_new = np.dot(Betweenclass_error_new.T,Betweenclass_error_new)\n",
        "Eb_new = Eb_new/(num_data*(number_of_classes-1))\n"
      ],
      "execution_count": null,
      "outputs": [
        {
          "output_type": "stream",
          "name": "stderr",
          "text": [
            " 95%|█████████▌| 1364/1430 [55:55<02:35,  2.36s/it]"
          ]
        }
      ]
    },
    {
      "cell_type": "code",
      "metadata": {
        "id": "bBc7Nn0Zr9J9"
      },
      "source": [
        "beta = 1\n",
        "J = np.dot(np.linalg.inv(sw+(beta*Ew_new)),(sb+(beta*Eb_new)))\n",
        "eigenvalues, eigenvectors, = np.linalg.eig(J)\n",
        "eig_pairs = [(eigenvalues[index], eigenvectors[:,index]) for index in range(len(eigenvalues))]\n",
        "\n",
        "eig_pairs.sort(key=lambda tup:tup[0],reverse=True)\n",
        "eigvalues_sort  = [eig_pairs[index][0] for index in range(len(eigenvalues))]\n",
        "eigvectors_sort = [eig_pairs[index][1] for index in range(len(eigenvalues))]\n",
        "p_zero_1 = np.array(eigvectors_sort[:number_chosen_components]).transpose() "
      ],
      "execution_count": null,
      "outputs": []
    },
    {
      "cell_type": "code",
      "metadata": {
        "id": "9MGYoCmJsBHd"
      },
      "source": [
        "test(p_zero_1,training_label)"
      ],
      "execution_count": null,
      "outputs": []
    },
    {
      "cell_type": "code",
      "metadata": {
        "id": "b7VkwFOkyUPc",
        "colab": {
          "base_uri": "https://localhost:8080/"
        },
        "outputId": "bb59cff9-4fcd-42e5-980a-a244a43f2c0f"
      },
      "source": [
        "# proj_mtx = np.array(eigvectors_sort[:number_chosen_components]).transpose()\n",
        "p1 = np.zeros((pca_components,int(number_chosen_components/2)))\n",
        "index = 0\n",
        "end = int(number_chosen_components/2) \n",
        "for i in range(0,end):\n",
        "    p1[:,index] = p_zero_1[:,i]+p_zero_1[:,end+i]/2\n",
        "    # print(i)\n",
        "    index+=1\n",
        "test(p1,training_label)"
      ],
      "execution_count": 48,
      "outputs": [
        {
          "output_type": "stream",
          "name": "stderr",
          "text": [
            "100%|██████████| 1365/1365 [02:13<00:00, 10.24it/s]\n",
            "100%|██████████| 1365/1365 [02:25<00:00,  9.37it/s]"
          ]
        },
        {
          "output_type": "stream",
          "name": "stdout",
          "text": [
            "Correct Prediction: 1247\n",
            "Accuracy: 91.35531135531136\n"
          ]
        },
        {
          "output_type": "stream",
          "name": "stderr",
          "text": [
            "\n"
          ]
        }
      ]
    }
  ]
}