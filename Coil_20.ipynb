{
  "nbformat": 4,
  "nbformat_minor": 0,
  "metadata": {
    "colab": {
      "name": "Coil-20.ipynb",
      "provenance": [],
      "collapsed_sections": [],
      "authorship_tag": "ABX9TyMGhsvlsNr4eHW/STzKY0xI",
      "include_colab_link": true
    },
    "kernelspec": {
      "name": "python3",
      "display_name": "Python 3"
    }
  },
  "cells": [
    {
      "cell_type": "markdown",
      "metadata": {
        "id": "view-in-github",
        "colab_type": "text"
      },
      "source": [
        "<a href=\"https://colab.research.google.com/github/paritachavda/Face-Recognition-using-Sparse-Classifier/blob/main/Coil_20.ipynb\" target=\"_parent\"><img src=\"https://colab.research.google.com/assets/colab-badge.svg\" alt=\"Open In Colab\"/></a>"
      ]
    },
    {
      "cell_type": "markdown",
      "source": [
        "# **Sparse representation based classifier on Coil-20 dataset**\n",
        "*  Dataset Info: It has 20 different objects and each object\n",
        "has 72 different images(Total Images: 1440)\n",
        "*  Training:30 images per person(600 images)\n",
        "*  Testing: 42 images per person(840 images)\n",
        "*  Original dimension: 16384\n",
        "*  Reduced dimension: 140\n",
        "*   Accuracy: 95.71\n",
        "\n",
        "\n"
      ],
      "metadata": {
        "id": "n2_vKI1-tCM1"
      }
    },
    {
      "cell_type": "code",
      "metadata": {
        "id": "Rb0qxLZPlEBa",
        "colab": {
          "base_uri": "https://localhost:8080/"
        },
        "outputId": "bc5fe590-eecd-4dea-a041-bf4f44e387ef"
      },
      "source": [
        "from google.colab import drive\n",
        "drive.mount('/content/drive')"
      ],
      "execution_count": null,
      "outputs": [
        {
          "output_type": "stream",
          "name": "stdout",
          "text": [
            "Mounted at /content/drive\n"
          ]
        }
      ]
    },
    {
      "cell_type": "code",
      "metadata": {
        "id": "Gjl3EDeQlEqZ"
      },
      "source": [
        "!unzip -q '/content/drive/My Drive/Datasets/coil-20-proc.zip' "
      ],
      "execution_count": null,
      "outputs": []
    },
    {
      "cell_type": "code",
      "metadata": {
        "id": "E78rKFI1m0uM"
      },
      "source": [
        "import numpy as np\n",
        "from PIL import Image\n",
        "import os, sys"
      ],
      "execution_count": null,
      "outputs": []
    },
    {
      "cell_type": "code",
      "metadata": {
        "id": "yMbBj9RslRVM"
      },
      "source": [
        "import glob,string\n",
        "import pandas as pd\n",
        "\n",
        "path = './coil-20-proc/*.png'\n",
        "files=glob.glob(path)"
      ],
      "execution_count": null,
      "outputs": []
    },
    {
      "cell_type": "code",
      "metadata": {
        "id": "kV5c9YfLlUGF"
      },
      "source": [
        "import codecs\n",
        "from tqdm import tqdm\n",
        "def contructDataframe(file_list):    \n",
        "    data=[]\n",
        "    for file in tqdm(file_list):\n",
        "        data.append((file,file.split(\"/\")[-1].split(\"__\")[0]))\n",
        "    return pd.DataFrame(data,columns=['path','label'])"
      ],
      "execution_count": null,
      "outputs": []
    },
    {
      "cell_type": "code",
      "metadata": {
        "id": "fB3jN9U8mvdf",
        "colab": {
          "base_uri": "https://localhost:8080/",
          "height": 442
        },
        "outputId": "106aef43-d3ed-4f4f-b0d4-e23354b120f6"
      },
      "source": [
        "df=contructDataframe(files)\n",
        "df"
      ],
      "execution_count": null,
      "outputs": [
        {
          "output_type": "stream",
          "name": "stderr",
          "text": [
            "100%|██████████| 1440/1440 [00:00<00:00, 805736.09it/s]\n"
          ]
        },
        {
          "output_type": "execute_result",
          "data": {
            "text/plain": [
              "                              path  label\n",
              "0      ./coil-20-proc/obj7__46.png   obj7\n",
              "1      ./coil-20-proc/obj9__25.png   obj9\n",
              "2     ./coil-20-proc/obj15__44.png  obj15\n",
              "3      ./coil-20-proc/obj7__58.png   obj7\n",
              "4      ./coil-20-proc/obj5__52.png   obj5\n",
              "...                            ...    ...\n",
              "1435  ./coil-20-proc/obj13__44.png  obj13\n",
              "1436   ./coil-20-proc/obj4__15.png   obj4\n",
              "1437  ./coil-20-proc/obj10__51.png  obj10\n",
              "1438  ./coil-20-proc/obj18__20.png  obj18\n",
              "1439   ./coil-20-proc/obj9__23.png   obj9\n",
              "\n",
              "[1440 rows x 2 columns]"
            ],
            "text/html": [
              "\n",
              "  <div id=\"df-15d6ab4e-0a2c-4c63-84e4-8c5144d5aed7\">\n",
              "    <div class=\"colab-df-container\">\n",
              "      <div>\n",
              "<style scoped>\n",
              "    .dataframe tbody tr th:only-of-type {\n",
              "        vertical-align: middle;\n",
              "    }\n",
              "\n",
              "    .dataframe tbody tr th {\n",
              "        vertical-align: top;\n",
              "    }\n",
              "\n",
              "    .dataframe thead th {\n",
              "        text-align: right;\n",
              "    }\n",
              "</style>\n",
              "<table border=\"1\" class=\"dataframe\">\n",
              "  <thead>\n",
              "    <tr style=\"text-align: right;\">\n",
              "      <th></th>\n",
              "      <th>path</th>\n",
              "      <th>label</th>\n",
              "    </tr>\n",
              "  </thead>\n",
              "  <tbody>\n",
              "    <tr>\n",
              "      <th>0</th>\n",
              "      <td>./coil-20-proc/obj7__46.png</td>\n",
              "      <td>obj7</td>\n",
              "    </tr>\n",
              "    <tr>\n",
              "      <th>1</th>\n",
              "      <td>./coil-20-proc/obj9__25.png</td>\n",
              "      <td>obj9</td>\n",
              "    </tr>\n",
              "    <tr>\n",
              "      <th>2</th>\n",
              "      <td>./coil-20-proc/obj15__44.png</td>\n",
              "      <td>obj15</td>\n",
              "    </tr>\n",
              "    <tr>\n",
              "      <th>3</th>\n",
              "      <td>./coil-20-proc/obj7__58.png</td>\n",
              "      <td>obj7</td>\n",
              "    </tr>\n",
              "    <tr>\n",
              "      <th>4</th>\n",
              "      <td>./coil-20-proc/obj5__52.png</td>\n",
              "      <td>obj5</td>\n",
              "    </tr>\n",
              "    <tr>\n",
              "      <th>...</th>\n",
              "      <td>...</td>\n",
              "      <td>...</td>\n",
              "    </tr>\n",
              "    <tr>\n",
              "      <th>1435</th>\n",
              "      <td>./coil-20-proc/obj13__44.png</td>\n",
              "      <td>obj13</td>\n",
              "    </tr>\n",
              "    <tr>\n",
              "      <th>1436</th>\n",
              "      <td>./coil-20-proc/obj4__15.png</td>\n",
              "      <td>obj4</td>\n",
              "    </tr>\n",
              "    <tr>\n",
              "      <th>1437</th>\n",
              "      <td>./coil-20-proc/obj10__51.png</td>\n",
              "      <td>obj10</td>\n",
              "    </tr>\n",
              "    <tr>\n",
              "      <th>1438</th>\n",
              "      <td>./coil-20-proc/obj18__20.png</td>\n",
              "      <td>obj18</td>\n",
              "    </tr>\n",
              "    <tr>\n",
              "      <th>1439</th>\n",
              "      <td>./coil-20-proc/obj9__23.png</td>\n",
              "      <td>obj9</td>\n",
              "    </tr>\n",
              "  </tbody>\n",
              "</table>\n",
              "<p>1440 rows × 2 columns</p>\n",
              "</div>\n",
              "      <button class=\"colab-df-convert\" onclick=\"convertToInteractive('df-15d6ab4e-0a2c-4c63-84e4-8c5144d5aed7')\"\n",
              "              title=\"Convert this dataframe to an interactive table.\"\n",
              "              style=\"display:none;\">\n",
              "        \n",
              "  <svg xmlns=\"http://www.w3.org/2000/svg\" height=\"24px\"viewBox=\"0 0 24 24\"\n",
              "       width=\"24px\">\n",
              "    <path d=\"M0 0h24v24H0V0z\" fill=\"none\"/>\n",
              "    <path d=\"M18.56 5.44l.94 2.06.94-2.06 2.06-.94-2.06-.94-.94-2.06-.94 2.06-2.06.94zm-11 1L8.5 8.5l.94-2.06 2.06-.94-2.06-.94L8.5 2.5l-.94 2.06-2.06.94zm10 10l.94 2.06.94-2.06 2.06-.94-2.06-.94-.94-2.06-.94 2.06-2.06.94z\"/><path d=\"M17.41 7.96l-1.37-1.37c-.4-.4-.92-.59-1.43-.59-.52 0-1.04.2-1.43.59L10.3 9.45l-7.72 7.72c-.78.78-.78 2.05 0 2.83L4 21.41c.39.39.9.59 1.41.59.51 0 1.02-.2 1.41-.59l7.78-7.78 2.81-2.81c.8-.78.8-2.07 0-2.86zM5.41 20L4 18.59l7.72-7.72 1.47 1.35L5.41 20z\"/>\n",
              "  </svg>\n",
              "      </button>\n",
              "      \n",
              "  <style>\n",
              "    .colab-df-container {\n",
              "      display:flex;\n",
              "      flex-wrap:wrap;\n",
              "      gap: 12px;\n",
              "    }\n",
              "\n",
              "    .colab-df-convert {\n",
              "      background-color: #E8F0FE;\n",
              "      border: none;\n",
              "      border-radius: 50%;\n",
              "      cursor: pointer;\n",
              "      display: none;\n",
              "      fill: #1967D2;\n",
              "      height: 32px;\n",
              "      padding: 0 0 0 0;\n",
              "      width: 32px;\n",
              "    }\n",
              "\n",
              "    .colab-df-convert:hover {\n",
              "      background-color: #E2EBFA;\n",
              "      box-shadow: 0px 1px 2px rgba(60, 64, 67, 0.3), 0px 1px 3px 1px rgba(60, 64, 67, 0.15);\n",
              "      fill: #174EA6;\n",
              "    }\n",
              "\n",
              "    [theme=dark] .colab-df-convert {\n",
              "      background-color: #3B4455;\n",
              "      fill: #D2E3FC;\n",
              "    }\n",
              "\n",
              "    [theme=dark] .colab-df-convert:hover {\n",
              "      background-color: #434B5C;\n",
              "      box-shadow: 0px 1px 3px 1px rgba(0, 0, 0, 0.15);\n",
              "      filter: drop-shadow(0px 1px 2px rgba(0, 0, 0, 0.3));\n",
              "      fill: #FFFFFF;\n",
              "    }\n",
              "  </style>\n",
              "\n",
              "      <script>\n",
              "        const buttonEl =\n",
              "          document.querySelector('#df-15d6ab4e-0a2c-4c63-84e4-8c5144d5aed7 button.colab-df-convert');\n",
              "        buttonEl.style.display =\n",
              "          google.colab.kernel.accessAllowed ? 'block' : 'none';\n",
              "\n",
              "        async function convertToInteractive(key) {\n",
              "          const element = document.querySelector('#df-15d6ab4e-0a2c-4c63-84e4-8c5144d5aed7');\n",
              "          const dataTable =\n",
              "            await google.colab.kernel.invokeFunction('convertToInteractive',\n",
              "                                                     [key], {});\n",
              "          if (!dataTable) return;\n",
              "\n",
              "          const docLinkHtml = 'Like what you see? Visit the ' +\n",
              "            '<a target=\"_blank\" href=https://colab.research.google.com/notebooks/data_table.ipynb>data table notebook</a>'\n",
              "            + ' to learn more about interactive tables.';\n",
              "          element.innerHTML = '';\n",
              "          dataTable['output_type'] = 'display_data';\n",
              "          await google.colab.output.renderOutput(dataTable, element);\n",
              "          const docLink = document.createElement('div');\n",
              "          docLink.innerHTML = docLinkHtml;\n",
              "          element.appendChild(docLink);\n",
              "        }\n",
              "      </script>\n",
              "    </div>\n",
              "  </div>\n",
              "  "
            ]
          },
          "metadata": {},
          "execution_count": 6
        }
      ]
    },
    {
      "cell_type": "code",
      "metadata": {
        "id": "wpdJA9Hfn6hR"
      },
      "source": [
        "X,y = [], []\n",
        "for row in df['path']:\n",
        "  im = Image.open(row)   \n",
        "  X.append(np.asarray(im, dtype=np.uint8))\n",
        "\n",
        "for row in df['label']:\n",
        "  y.append(int(row[3:]))"
      ],
      "execution_count": null,
      "outputs": []
    },
    {
      "cell_type": "code",
      "metadata": {
        "id": "11ljmxIjXW3l",
        "colab": {
          "base_uri": "https://localhost:8080/"
        },
        "outputId": "936e2de6-9b18-423b-977d-63fcfbe39d83"
      },
      "source": [
        "len(X[0][0])"
      ],
      "execution_count": null,
      "outputs": [
        {
          "output_type": "execute_result",
          "data": {
            "text/plain": [
              "128"
            ]
          },
          "metadata": {},
          "execution_count": 8
        }
      ]
    },
    {
      "cell_type": "code",
      "metadata": {
        "id": "YzONkNKW8qeD",
        "colab": {
          "base_uri": "https://localhost:8080/"
        },
        "outputId": "995e7d15-c96f-4fae-a377-e71a26903cb1"
      },
      "source": [
        "classLabels = np.unique(y)\n",
        "classLabels"
      ],
      "execution_count": null,
      "outputs": [
        {
          "output_type": "execute_result",
          "data": {
            "text/plain": [
              "array([ 1,  2,  3,  4,  5,  6,  7,  8,  9, 10, 11, 12, 13, 14, 15, 16, 17,\n",
              "       18, 19, 20])"
            ]
          },
          "metadata": {},
          "execution_count": 9
        }
      ]
    },
    {
      "cell_type": "code",
      "metadata": {
        "id": "Xw8awA5CuDi2",
        "colab": {
          "base_uri": "https://localhost:8080/"
        },
        "outputId": "3715adf2-2238-49d9-eb41-51ee0f5d700e"
      },
      "source": [
        "partition = [np.where(y==label) for label in classLabels]\n",
        "partition[0]"
      ],
      "execution_count": null,
      "outputs": [
        {
          "output_type": "execute_result",
          "data": {
            "text/plain": [
              "(array([  40,   45,   54,   83,  169,  183,  190,  193,  223,  228,  244,\n",
              "         256,  280,  297,  306,  328,  340,  353,  364,  443,  454,  462,\n",
              "         469,  526,  529,  547,  552,  559,  568,  572,  585,  587,  628,\n",
              "         676,  679,  697,  755,  773,  792,  805,  806,  837,  863,  894,\n",
              "         928,  932,  934,  959,  984, 1063, 1092, 1115, 1126, 1146, 1148,\n",
              "        1167, 1168, 1170, 1177, 1178, 1181, 1236, 1238, 1239, 1252, 1264,\n",
              "        1283, 1311, 1351, 1383, 1399, 1430]),)"
            ]
          },
          "metadata": {},
          "execution_count": 10
        }
      ]
    },
    {
      "cell_type": "code",
      "metadata": {
        "id": "RAeQKhzxvwXu"
      },
      "source": [
        "X_new = []\n",
        "y_new = []\n",
        "number_of_classes = 20\n",
        "\n",
        "for i in range(number_of_classes):\n",
        "  for j in partition[i][0]:\n",
        "    X_new.append(X[j])\n",
        "    y_new.append(y[j])"
      ],
      "execution_count": null,
      "outputs": []
    },
    {
      "cell_type": "code",
      "metadata": {
        "id": "WaICLBqh2ruN",
        "colab": {
          "base_uri": "https://localhost:8080/"
        },
        "outputId": "8ee62aae-c6ba-4ca0-a0ee-6414e8ba3435"
      },
      "source": [
        "import collections\n",
        "my_dict = collections.defaultdict(int)\n",
        "for i in y_new:\n",
        "    my_dict[i] += 1\n",
        "temp = min(my_dict.items(), key=lambda x: x[1])\n",
        "print(temp)\n",
        "min_num_img = temp[1]\n",
        "# my_dict"
      ],
      "execution_count": null,
      "outputs": [
        {
          "output_type": "stream",
          "name": "stdout",
          "text": [
            "(1, 72)\n"
          ]
        }
      ]
    },
    {
      "cell_type": "code",
      "metadata": {
        "id": "j1bF3xpT-W4n",
        "colab": {
          "base_uri": "https://localhost:8080/"
        },
        "outputId": "de95bfa9-d6e7-45e9-b471-cffec595b086"
      },
      "source": [
        "np.random.seed(2020)\n",
        "\n",
        "Xtrain, Xtest = [], []\n",
        "ytrain, ytest = [], []\n",
        "\n",
        "img_in_class = 30\n",
        "\n",
        "for i in range(len(y_new)):\n",
        "    if i%min_num_img==0:\n",
        "        train = np.random.choice(min_num_img,img_in_class,replace=False)\n",
        "        # print(len(train))  \n",
        "    if ((i%min_num_img in train)):\n",
        "        Xtrain.append(X_new[i])\n",
        "        ytrain.append(y_new[i])        \n",
        "    else:\n",
        "        Xtest.append(X_new[i])\n",
        "        ytest.append(y_new[i])      \n",
        "\n",
        "len(Xtrain)"
      ],
      "execution_count": null,
      "outputs": [
        {
          "output_type": "execute_result",
          "data": {
            "text/plain": [
              "600"
            ]
          },
          "metadata": {},
          "execution_count": 13
        }
      ]
    },
    {
      "cell_type": "code",
      "metadata": {
        "id": "unEexe6l3yg5",
        "colab": {
          "base_uri": "https://localhost:8080/"
        },
        "outputId": "a4e884d1-a854-434b-e201-c070686caaac"
      },
      "source": [
        "train"
      ],
      "execution_count": null,
      "outputs": [
        {
          "output_type": "execute_result",
          "data": {
            "text/plain": [
              "array([42, 40, 58,  1, 28,  2, 16, 30, 46, 29, 49, 55, 59, 48, 65, 64, 69,\n",
              "       52, 35, 32, 18, 61, 66, 54, 43, 19, 14, 37, 41, 57])"
            ]
          },
          "metadata": {},
          "execution_count": 14
        }
      ]
    },
    {
      "cell_type": "code",
      "metadata": {
        "id": "kMYRMxasAetv"
      },
      "source": [
        "width =128\n",
        "height = 128\n",
        "\n",
        "training_data= np.zeros((number_of_classes*img_in_class,width*height))\n",
        "training_label= np.zeros(number_of_classes*img_in_class)\n",
        "\n",
        "for i in range(number_of_classes):\n",
        "    for c in range(img_in_class):\n",
        "        training_data[i*img_in_class+c,:] = Xtrain[i*img_in_class+c].flatten()\n",
        "        training_label[i*img_in_class+c]=ytrain[i*img_in_class+c]    \n",
        "    \n",
        "training_data_col = training_data.T\n"
      ],
      "execution_count": null,
      "outputs": []
    },
    {
      "cell_type": "code",
      "metadata": {
        "id": "zN--43VVj5Tk"
      },
      "source": [
        "X_toconcat_test = [np.reshape(e,(Xtest[0].shape[0]*Xtest[0].shape[1],1)) for e in Xtest]\n",
        "test_data_col = np.concatenate(X_toconcat_test,axis=1) "
      ],
      "execution_count": null,
      "outputs": []
    },
    {
      "cell_type": "code",
      "metadata": {
        "id": "HCqB_-5Pj94e",
        "colab": {
          "base_uri": "https://localhost:8080/"
        },
        "outputId": "f21de110-ce69-4742-8ce4-4899ce3530f1"
      },
      "source": [
        "test_data_col.shape"
      ],
      "execution_count": null,
      "outputs": [
        {
          "output_type": "execute_result",
          "data": {
            "text/plain": [
              "(16384, 840)"
            ]
          },
          "metadata": {},
          "execution_count": 17
        }
      ]
    },
    {
      "cell_type": "code",
      "metadata": {
        "id": "ZSFLHGEWkCxq"
      },
      "source": [
        "from sklearn.decomposition import PCA\n",
        "\n",
        "def eigenfaces(X_train,X_test,n_components=200):  \n",
        "    pca = PCA(n_components=n_components, svd_solver='randomized',\n",
        "      whiten=True).fit(X_train)\n",
        "    X_train_pca = pca.transform(X_train)\n",
        "    X_test_pca = pca.transform(X_test)\n",
        "    return X_train_pca, X_test_pca  "
      ],
      "execution_count": null,
      "outputs": []
    },
    {
      "cell_type": "markdown",
      "metadata": {
        "id": "3InGD-upiBL_"
      },
      "source": [
        "SRC\n"
      ]
    },
    {
      "cell_type": "code",
      "metadata": {
        "id": "3UJc-OIaiPPO"
      },
      "source": [
        "from tqdm import tqdm\n",
        "from sklearn.linear_model import Lasso\n",
        "\n",
        "def test(training_label):\n",
        "    training_label=training_label.astype(int)\n",
        "    correct_prediction = 0\n",
        "    \n",
        "    \n",
        "    for i in tqdm(range(len(Xtest))):    \n",
        "        clf = Lasso(alpha=0.01)\n",
        "        y = Xtest_col[:,i]\n",
        "        clf.fit(Xtrain_col,y)\n",
        "        sp_re_test = clf.coef_\n",
        "        label = ytest[i]\n",
        "        pred_class_test = np.argmin(residu(y,Xtrain_col,sp_re_test,training_label))\n",
        "        if(label==pred_class_test):\n",
        "            correct_prediction=correct_prediction+1\n",
        "\n",
        "    print('Correct Prediction:',correct_prediction)\n",
        "    print('Accuracy:',correct_prediction/len(Xtest)*100)\n",
        "\n",
        "\n",
        "def delta(x,i,classs):\n",
        "    \n",
        "    n,m = len(x),len(classs)\n",
        "    \n",
        "    if (n != m):\n",
        "        print('vectors of differents sizes, cannot operate delta')\n",
        "        \n",
        "    tmp = i*np.ones(n)-classs\n",
        "\n",
        "    for k in range(n):\n",
        "        if tmp[k]==0:\n",
        "            tmp[k]=1\n",
        "        else:\n",
        "            tmp[k]=0 \n",
        "            \n",
        "    return tmp*x\n",
        "\n",
        "def residu(y,A,x,class_x):\n",
        "    \n",
        "    k = np.max(class_x)+1\n",
        "    r = np.zeros(k)\n",
        "    \n",
        "    for i in range(0,k):\n",
        "        r[i] = np.linalg.norm(y - np.dot(A,delta(x,i,class_x)))\n",
        "        \n",
        "    return r"
      ],
      "execution_count": null,
      "outputs": []
    },
    {
      "cell_type": "code",
      "metadata": {
        "id": "H7k5CqsTkG7E"
      },
      "source": [
        "from sklearn.preprocessing import StandardScaler\n",
        "\n",
        "ss = StandardScaler()\n",
        "Xtrain_std = ss.fit_transform(training_data_col)\n",
        "Xtest_std = ss.fit_transform(test_data_col)\n",
        "\n",
        "Xtrain_PCA, Xtest_PCA = eigenfaces(Xtrain_std.T,Xtest_std.T,n_components=200)\n",
        "Xtrain_col, Xtest_col = Xtrain_PCA.T, Xtest_PCA.T"
      ],
      "execution_count": null,
      "outputs": []
    },
    {
      "cell_type": "code",
      "metadata": {
        "id": "gT-ae9IikL9Z",
        "colab": {
          "base_uri": "https://localhost:8080/"
        },
        "outputId": "a504d89a-008d-4c2c-c8fe-191feeffba94"
      },
      "source": [
        "Xtrain_col"
      ],
      "execution_count": null,
      "outputs": [
        {
          "output_type": "execute_result",
          "data": {
            "text/plain": [
              "array([[ 0.34776033,  0.51807   , -0.65846378, ...,  1.15949244,\n",
              "         1.03127971,  1.0365162 ],\n",
              "       [ 1.73691642,  1.28503538,  1.51259991, ..., -1.41805582,\n",
              "        -1.06798284, -1.07673101],\n",
              "       [ 0.0258731 , -0.00895447,  0.48444516, ..., -0.19158857,\n",
              "        -0.33869106, -0.18358351],\n",
              "       ...,\n",
              "       [ 0.29081598,  0.4271726 , -0.24031135, ..., -1.36651001,\n",
              "         1.29661287, -0.96626368],\n",
              "       [-1.10798743, -0.7231712 ,  0.24232587, ...,  1.47127151,\n",
              "         0.14315535,  1.73749579],\n",
              "       [ 0.27615653,  0.73955524, -0.39200352, ...,  2.05001964,\n",
              "        -0.04757767, -0.18248526]])"
            ]
          },
          "metadata": {},
          "execution_count": 21
        }
      ]
    },
    {
      "cell_type": "code",
      "metadata": {
        "id": "lhiBdhzLkRhN"
      },
      "source": [
        "np.random.seed(2020)\n",
        "from numpy.random import rand\n",
        "\n",
        "alpha = 0.010\n",
        "pca_components = 200\n",
        "number_chosen_components = 140\n",
        "\n",
        "\n",
        "p_zero = np.random.rand(pca_components,number_chosen_components)\n",
        "y_tr = p_zero.transpose().dot(Xtrain_col)"
      ],
      "execution_count": null,
      "outputs": []
    },
    {
      "cell_type": "code",
      "metadata": {
        "id": "l_rVUzRnkUfW",
        "colab": {
          "base_uri": "https://localhost:8080/"
        },
        "outputId": "3230ab73-ec99-4444-e607-f9ed4c49fa78"
      },
      "source": [
        "print(p_zero)"
      ],
      "execution_count": null,
      "outputs": [
        {
          "output_type": "stream",
          "name": "stdout",
          "text": [
            "[[0.98627683 0.87339195 0.50974552 ... 0.81490306 0.22237219 0.09742508]\n",
            " [0.94554092 0.76213503 0.32867765 ... 0.59632419 0.02381255 0.60068745]\n",
            " [0.72762319 0.29652697 0.35077751 ... 0.06699604 0.16561218 0.08040271]\n",
            " ...\n",
            " [0.48614457 0.0283027  0.8678654  ... 0.38063918 0.07358041 0.90425185]\n",
            " [0.02619857 0.47531397 0.0345903  ... 0.51420048 0.54840106 0.27919557]\n",
            " [0.76017911 0.35783842 0.64871152 ... 0.35476685 0.11377084 0.11586045]]\n"
          ]
        }
      ]
    },
    {
      "cell_type": "code",
      "metadata": {
        "id": "FAbsyD41kY-y",
        "colab": {
          "base_uri": "https://localhost:8080/"
        },
        "outputId": "c346baf5-65d2-40ce-91c2-43e0c90e8155"
      },
      "source": [
        "y_tr"
      ],
      "execution_count": null,
      "outputs": [
        {
          "output_type": "execute_result",
          "data": {
            "text/plain": [
              "array([[ 3.34501188,  6.00832733,  4.09065348, ..., -9.67857004,\n",
              "         6.29342246, -6.66843223],\n",
              "       [ 1.68278963,  0.52786422,  3.78225734, ..., -0.67304487,\n",
              "         1.43746985,  2.34630705],\n",
              "       [ 0.81125609,  1.28939318, -2.53206717, ..., -4.5345603 ,\n",
              "        -1.3461734 ,  1.78959119],\n",
              "       ...,\n",
              "       [10.02814951,  4.3400337 , -0.24657406, ..., -5.95962986,\n",
              "         0.22474131,  1.6929934 ],\n",
              "       [10.92473205,  7.61053229, -2.44460609, ..., -7.14318673,\n",
              "        -1.42630798, -3.17525497],\n",
              "       [ 3.95714492,  1.77031832,  0.79856697, ...,  3.25609149,\n",
              "         4.2219974 , -2.94580747]])"
            ]
          },
          "metadata": {},
          "execution_count": 24
        }
      ]
    },
    {
      "cell_type": "code",
      "metadata": {
        "id": "xemPOdDNkbZ6",
        "colab": {
          "base_uri": "https://localhost:8080/"
        },
        "outputId": "0c719083-fef1-43e4-f1e9-f6b96a16afbf"
      },
      "source": [
        "import warnings\n",
        "warnings.filterwarnings('ignore')\n",
        "\n",
        "from sklearn.linear_model import Lasso\n",
        "from tqdm import tqdm\n",
        "\n",
        "sp_re = np.zeros(shape=(y_tr.shape[1]-1,y_tr.shape[1]))\n",
        "for i in tqdm(range(y_tr.shape[1])):  \n",
        "    clf = Lasso(alpha)\n",
        "    y = y_tr[:,i]\n",
        "    y_tr = np.delete(y_tr,i,1)\n",
        "    clf.fit(y_tr,y)\n",
        "    y_tr=np.insert(y_tr,i,y,axis=1)\n",
        "    sp_re[:,i] = clf.coef_"
      ],
      "execution_count": null,
      "outputs": [
        {
          "output_type": "stream",
          "name": "stderr",
          "text": [
            "100%|██████████| 600/600 [01:07<00:00,  8.93it/s]\n"
          ]
        }
      ]
    },
    {
      "cell_type": "code",
      "metadata": {
        "id": "U5QPij_hkeOs",
        "colab": {
          "base_uri": "https://localhost:8080/"
        },
        "outputId": "50fa8683-959e-4053-f2ce-ddeb8aa56523"
      },
      "source": [
        "sp_re"
      ],
      "execution_count": null,
      "outputs": [
        {
          "output_type": "execute_result",
          "data": {
            "text/plain": [
              "array([[ 0.        ,  0.02789417,  0.        , ..., -0.        ,\n",
              "         0.        ,  0.        ],\n",
              "       [ 0.        , -0.        , -0.        , ..., -0.        ,\n",
              "         0.        ,  0.        ],\n",
              "       [ 0.0049398 , -0.        , -0.        , ...,  0.        ,\n",
              "         0.        ,  0.        ],\n",
              "       ...,\n",
              "       [-0.0060222 , -0.02211002,  0.        , ..., -0.07618751,\n",
              "         0.59148122,  0.01730946],\n",
              "       [-0.        ,  0.        , -0.        , ..., -0.03223609,\n",
              "        -0.00632556, -0.06172838],\n",
              "       [ 0.        , -0.        ,  0.        , ..., -0.        ,\n",
              "         0.01384165,  0.01194502]])"
            ]
          },
          "metadata": {},
          "execution_count": 26
        }
      ]
    },
    {
      "cell_type": "code",
      "metadata": {
        "id": "Ca1xFxfWO9MN",
        "colab": {
          "base_uri": "https://localhost:8080/"
        },
        "outputId": "551dbbde-49a0-47fa-cece-96f9b4b47296"
      },
      "source": [
        "y_tr.shape"
      ],
      "execution_count": null,
      "outputs": [
        {
          "output_type": "execute_result",
          "data": {
            "text/plain": [
              "(140, 600)"
            ]
          },
          "metadata": {},
          "execution_count": 27
        }
      ]
    },
    {
      "cell_type": "code",
      "metadata": {
        "id": "ifiN7S1Ukh_z"
      },
      "source": [
        "mew = np.zeros((number_of_classes, pca_components))\n",
        "M = np.zeros((1,pca_components))\n",
        "\n",
        "for i in range(number_of_classes):\n",
        "    xa = Xtrain_PCA[img_in_class*i:img_in_class*i+img_in_class,:]\n",
        "    for j in xa:\n",
        "        mew[i,:] = np.add(mew[i,:],j)\n",
        "    mew[i,:] = np.divide(mew[i,:],float(len(xa)))\n",
        "\n",
        "for i in Xtrain_PCA:\n",
        "    M = np.add(M,i)\n",
        "M = np.divide(M,float(Xtrain_PCA.shape[0]))"
      ],
      "execution_count": null,
      "outputs": []
    },
    {
      "cell_type": "code",
      "metadata": {
        "id": "OJ9iFVDBkvQx"
      },
      "source": [
        "normalised_wc_proj_sig = np.ndarray(shape=(number_of_classes*img_in_class, pca_components), dtype=np.float64)\n",
        "\n",
        "for i in range(number_of_classes):\n",
        "    for j in range(img_in_class):\n",
        "        normalised_wc_proj_sig[i*img_in_class+j,:] = np.subtract(Xtrain_PCA[i*img_in_class+j,:],mew[i,:])\n",
        "\n",
        "\n",
        "sw = np.zeros((pca_components,pca_components))\n",
        "\n",
        "for i in range(number_of_classes):\n",
        "    xa = normalised_wc_proj_sig[img_in_class*i:img_in_class*i+img_in_class,:]\n",
        "    xa = xa.transpose()\n",
        "    cov = np.dot(xa,xa.T)\n",
        "    sw = sw + cov\n",
        "\n",
        "normalised_class = np.ndarray(shape=(number_of_classes, pca_components), dtype=np.float64)\n",
        "sb = np.zeros((pca_components,pca_components))\n",
        "\n",
        "for i in range(number_of_classes):\n",
        "    normalised_class[i,:] = np.subtract(mew[i,:],M)\n",
        "\n",
        "sb = np.dot(normalised_class.T,normalised_class)\n",
        "sb = np.multiply(sb,float(img_in_class))"
      ],
      "execution_count": null,
      "outputs": []
    },
    {
      "cell_type": "code",
      "metadata": {
        "id": "iRF1lXI9kz89",
        "colab": {
          "base_uri": "https://localhost:8080/"
        },
        "outputId": "e02a10a6-54c9-420d-eacd-20cef4f5214e"
      },
      "source": [
        "sw"
      ],
      "execution_count": null,
      "outputs": [
        {
          "output_type": "execute_result",
          "data": {
            "text/plain": [
              "array([[ 8.04852934e+01, -3.81738154e+01, -2.09536210e+01, ...,\n",
              "        -8.97174482e+00, -3.20863920e+00, -1.08286172e+01],\n",
              "       [-3.81738154e+01,  8.09123785e+01,  3.75236740e+01, ...,\n",
              "        -5.21476359e+00, -6.46602205e+00,  1.31742037e+01],\n",
              "       [-2.09536210e+01,  3.75236740e+01,  1.85324727e+02, ...,\n",
              "        -2.13966296e+00, -9.56949149e+00,  1.24038913e+01],\n",
              "       ...,\n",
              "       [-8.97174482e+00, -5.21476359e+00, -2.13966296e+00, ...,\n",
              "         5.93940054e+02, -1.44891237e+00, -9.05118275e-02],\n",
              "       [-3.20863920e+00, -6.46602205e+00, -9.56949149e+00, ...,\n",
              "        -1.44891237e+00,  5.93522145e+02,  4.92946197e+00],\n",
              "       [-1.08286172e+01,  1.31742037e+01,  1.24038913e+01, ...,\n",
              "        -9.05118275e-02,  4.92946197e+00,  5.87509862e+02]])"
            ]
          },
          "metadata": {},
          "execution_count": 30
        }
      ]
    },
    {
      "cell_type": "code",
      "metadata": {
        "id": "7sehdjlak23K",
        "colab": {
          "base_uri": "https://localhost:8080/"
        },
        "outputId": "b77d8d33-51b1-4ba4-8f37-eb6d2c9f6a87"
      },
      "source": [
        "sb"
      ],
      "execution_count": null,
      "outputs": [
        {
          "output_type": "execute_result",
          "data": {
            "text/plain": [
              "array([[ 5.18514707e+02,  3.81738154e+01,  2.09536210e+01, ...,\n",
              "         8.97174482e+00,  3.20863920e+00,  1.08286172e+01],\n",
              "       [ 3.81738154e+01,  5.18087622e+02, -3.75236740e+01, ...,\n",
              "         5.21476359e+00,  6.46602205e+00, -1.31742037e+01],\n",
              "       [ 2.09536210e+01, -3.75236740e+01,  4.13675273e+02, ...,\n",
              "         2.13966296e+00,  9.56949149e+00, -1.24038913e+01],\n",
              "       ...,\n",
              "       [ 8.97174482e+00,  5.21476359e+00,  2.13966296e+00, ...,\n",
              "         5.05994620e+00,  1.44891237e+00,  9.05118275e-02],\n",
              "       [ 3.20863920e+00,  6.46602205e+00,  9.56949149e+00, ...,\n",
              "         1.44891237e+00,  5.47785469e+00, -4.92946197e+00],\n",
              "       [ 1.08286172e+01, -1.31742037e+01, -1.24038913e+01, ...,\n",
              "         9.05118275e-02, -4.92946197e+00,  1.14901380e+01]])"
            ]
          },
          "metadata": {},
          "execution_count": 31
        }
      ]
    },
    {
      "cell_type": "code",
      "metadata": {
        "id": "CONsrphek3ei"
      },
      "source": [
        "def delta(x,i,classs):\n",
        "    \n",
        "    n,m = len(x),len(classs)\n",
        "    \n",
        "    if (n != m):\n",
        "        print('vectors of differents sizes, cannot operate delta')\n",
        "        \n",
        "    tmp = i*np.ones(n)-classs\n",
        "\n",
        "    for k in range(n):\n",
        "        if tmp[k]==0:\n",
        "            tmp[k]=1\n",
        "        else:\n",
        "            tmp[k]=0 \n",
        "            \n",
        "    return tmp*x\n",
        "\n",
        "def residu(y,A,x,class_x):\n",
        "    \n",
        "    k = np.max(class_x)+1\n",
        "    r = np.zeros(k)\n",
        "    \n",
        "    for i in range(0,k):\n",
        "        r[i] = np.linalg.norm(y - np.dot(A,delta(x,i,class_x)))\n",
        "        \n",
        "    return r\n",
        "\n",
        "def cost(proj):\n",
        "    multi_b = np.dot(proj.T,np.dot(sb+Eb,proj))\n",
        "    numerator = np.trace(multi_b)\n",
        "    # print(numerator)\n",
        "    multi_w = np.dot(proj.T,np.dot(Ew+sw,proj))\n",
        "    denomenator = np.trace(multi_w)\n",
        "    # print(denomenator)\n",
        "    final_val = numerator/denomenator\n",
        "    # print(final_val)\n",
        "    return final_val"
      ],
      "execution_count": null,
      "outputs": []
    },
    {
      "cell_type": "code",
      "metadata": {
        "id": "fYTq__hUk7Xu"
      },
      "source": [
        "num_tr = y_tr.shape[1]\n",
        "Ew = np.zeros((pca_components,pca_components))\n",
        "Withinclass_error = np.ndarray(shape=(number_of_classes*img_in_class, pca_components), dtype=np.float64)\n",
        "for i in range(num_tr):\n",
        "    x = Xtrain_col[:,i]\n",
        "    label = training_label[i]\n",
        "    Xtrain_col = np.delete(Xtrain_col,i,1)\n",
        "    training_label = np.delete(training_label,i)\n",
        "    Withinclass_error[i,:] = x-np.dot(Xtrain_col,delta(sp_re[:,i],label,training_label))\n",
        "    Xtrain_col=np.insert(Xtrain_col,i,x,axis=1)\n",
        "    training_label=np.insert(training_label,i,label)\n",
        "    \n",
        "Ew = np.dot(Withinclass_error.T,Withinclass_error)\n",
        "Ew = Ew/number_of_classes*img_in_class"
      ],
      "execution_count": null,
      "outputs": []
    },
    {
      "cell_type": "code",
      "metadata": {
        "id": "LSbkS4gnk9kQ",
        "colab": {
          "base_uri": "https://localhost:8080/"
        },
        "outputId": "62fa71f8-4432-4c25-ed19-14bba86c0ad4"
      },
      "source": [
        "Ew"
      ],
      "execution_count": null,
      "outputs": [
        {
          "output_type": "execute_result",
          "data": {
            "text/plain": [
              "array([[ 1.63420301e+02,  1.74856038e+01, -3.30999445e+01, ...,\n",
              "        -1.88762248e+01,  1.25527297e+01, -1.00668526e+01],\n",
              "       [ 1.74856038e+01,  8.93740178e+01,  3.20132781e+01, ...,\n",
              "         5.50547547e-02, -1.15979318e+01,  9.83715187e+00],\n",
              "       [-3.30999445e+01,  3.20132781e+01,  9.58647701e+01, ...,\n",
              "         9.41149886e-01, -2.89625308e+01,  2.07315936e+01],\n",
              "       ...,\n",
              "       [-1.88762248e+01,  5.50547547e-02,  9.41149886e-01, ...,\n",
              "         9.42307438e+02, -6.99231706e+01,  8.06125652e+01],\n",
              "       [ 1.25527297e+01, -1.15979318e+01, -2.89625308e+01, ...,\n",
              "        -6.99231706e+01,  1.00137956e+03,  2.47187772e+01],\n",
              "       [-1.00668526e+01,  9.83715187e+00,  2.07315936e+01, ...,\n",
              "         8.06125652e+01,  2.47187772e+01,  7.91469203e+02]])"
            ]
          },
          "metadata": {},
          "execution_count": 34
        }
      ]
    },
    {
      "cell_type": "code",
      "metadata": {
        "id": "jpDaxGgmk_1P"
      },
      "source": [
        "from tqdm import tqdm\n",
        "num_data = number_of_classes*img_in_class\n",
        "\n",
        "classLabels = np.unique(ytrain)\n",
        "k={}\n",
        "for label in classLabels:  \n",
        "    temp = np.where(training_label!=label)\n",
        "    k.update({label:temp})\n"
      ],
      "execution_count": null,
      "outputs": []
    },
    {
      "cell_type": "code",
      "metadata": {
        "id": "oN1vadD2lCni",
        "colab": {
          "base_uri": "https://localhost:8080/"
        },
        "outputId": "d1b8c1af-75ba-4e31-a6d4-19fcbd2f51af"
      },
      "source": [
        "Eb = np.zeros((pca_components,pca_components))\n",
        "Betweenclass_error = np.ndarray(shape=(number_of_classes*img_in_class, pca_components), dtype=np.float64)\n",
        "for i in tqdm(range(num_tr)):\n",
        "    tmp = np.zeros((pca_components))\n",
        "    x = Xtrain_col[:,i]\n",
        "    Xtrain_col = np.delete(Xtrain_col,i,1)\n",
        "    label = training_label[i]\n",
        "    other_label_index=(k[label][0])\n",
        "    for j in range(other_label_index.shape[0]):\n",
        "        other_label = training_label[j]\n",
        "        training_label = np.delete(training_label,j)\n",
        "        tmp += x-(np.dot(Xtrain_col,delta(sp_re[:,j],other_label,training_label)))\n",
        "        training_label=np.insert(training_label,j,other_label)\n",
        "    Betweenclass_error[i,:] = tmp\n",
        "    Xtrain_col=np.insert(Xtrain_col,i,x,axis=1)\n",
        "Eb = np.dot(Betweenclass_error.T,Betweenclass_error)\n",
        "Eb = Eb/(num_data*(number_of_classes-1))"
      ],
      "execution_count": null,
      "outputs": [
        {
          "output_type": "stream",
          "name": "stderr",
          "text": [
            "100%|██████████| 600/600 [04:42<00:00,  2.12it/s]\n"
          ]
        }
      ]
    },
    {
      "cell_type": "code",
      "metadata": {
        "id": "-xSo9DBKlHex"
      },
      "source": [
        "def check_symmetric(a, rtol=1e-05, atol=1e-08):\n",
        "    return np.allclose(a, a.T, rtol=rtol, atol=atol)"
      ],
      "execution_count": null,
      "outputs": []
    },
    {
      "cell_type": "code",
      "metadata": {
        "id": "_iu-AYux6dqJ"
      },
      "source": [
        "def test(proj_mtx,training_label):\n",
        "    training_label=training_label.astype(int)\n",
        "    y_tr = proj_mtx.transpose().dot(Xtrain_col)\n",
        "    sp_re_test = np.zeros((num_tr,len(Xtest)))\n",
        "    y_te = proj_mtx.transpose().dot(Xtest_col)\n",
        "\n",
        "    # print('Finding Sparse repre.:....')\n",
        "    for i in tqdm(range(y_te.shape[1])):    \n",
        "        clf = Lasso(alpha=0.01)\n",
        "        y = y_te[:,i]\n",
        "        clf.fit(y_tr,y)\n",
        "        sp_re_test[:,i] = clf.coef_\n",
        "\n",
        "\n",
        "    pred_class_test = np.zeros(y_te.shape[1])\n",
        "    for i in tqdm(range(y_te.shape[1])):\n",
        "        y = y_te[:,i]\n",
        "        label = ytest[i]\n",
        "        pred_class_test[i] = np.argmin(residu(y,y_tr,sp_re_test[:,i],training_label))\n",
        "\n",
        "    pred_class_test = pred_class_test.astype(int)\n",
        "    correct_prediction = 0\n",
        "    for i in range(y_te.shape[1]):\n",
        "        if(ytest[i]==pred_class_test[i]):\n",
        "            correct_prediction=correct_prediction+1\n",
        "\n",
        "    print('Correct Prediction:',correct_prediction)\n",
        "    print('Accuracy:',correct_prediction/y_te.shape[1]*100)\n"
      ],
      "execution_count": null,
      "outputs": []
    },
    {
      "cell_type": "markdown",
      "metadata": {
        "id": "2c1M8b7_51UR"
      },
      "source": [
        "# ***SRC-DP***"
      ]
    },
    {
      "cell_type": "code",
      "metadata": {
        "id": "ixWoGN9T5z-B",
        "colab": {
          "base_uri": "https://localhost:8080/"
        },
        "outputId": "41514e2e-fcd1-4976-c5ae-746467339fba"
      },
      "source": [
        "J_dp = np.dot(np.linalg.inv((Ew)),((Eb)))\n",
        "eigenvalues_dp, eigenvectors_dp, = np.linalg.eig(J_dp)\n",
        "eig_pairs_dp = [(eigenvalues_dp[index], eigenvectors_dp[:,index]) for index in range(len(eigenvalues_dp))]\n",
        "eig_pairs_dp.sort(key=lambda tup:tup[0],reverse=True)\n",
        "eigvalues_sort_dp  = [eig_pairs_dp[index][0] for index in range(len(eigenvalues_dp))]\n",
        "eigvectors_sort_dp = [eig_pairs_dp[index][1] for index in range(len(eigenvalues_dp))]\n",
        "print('Number of eigen vectors:',len(eigvalues_sort_dp))\n",
        "print(\"k:\",number_chosen_components)\n",
        "proj_mtx_dp = np.array(eigvectors_sort_dp[:number_chosen_components]).transpose()\n",
        "correct_prediction_dp = test(proj_mtx_dp,training_label)"
      ],
      "execution_count": null,
      "outputs": [
        {
          "output_type": "stream",
          "name": "stdout",
          "text": [
            "Number of eigen vectors: 200\n",
            "k: 140\n"
          ]
        },
        {
          "output_type": "stream",
          "name": "stderr",
          "text": [
            "100%|██████████| 840/840 [00:24<00:00, 33.85it/s]\n",
            "100%|██████████| 840/840 [00:14<00:00, 57.17it/s]"
          ]
        },
        {
          "output_type": "stream",
          "name": "stdout",
          "text": [
            "Correct Prediction: 798\n",
            "Accuracy: 95.0\n"
          ]
        },
        {
          "output_type": "stream",
          "name": "stderr",
          "text": [
            "\n"
          ]
        }
      ]
    },
    {
      "cell_type": "markdown",
      "metadata": {
        "id": "V-BhVKTT6OVq"
      },
      "source": [
        "# ***SRC-FDC***"
      ]
    },
    {
      "cell_type": "code",
      "metadata": {
        "id": "4D3XH_eplM0c",
        "colab": {
          "base_uri": "https://localhost:8080/"
        },
        "outputId": "8a1299fb-9a8d-45f6-e419-0c418ea497b0"
      },
      "source": [
        "beta = 1\n",
        "J = np.dot(np.linalg.inv(sw+(beta*Ew)),(sb+(beta*Eb)))\n",
        "eigenvalues, eigenvectors, = np.linalg.eig(J)\n",
        "eig_pairs = [(eigenvalues[index], eigenvectors[:,index]) for index in range(len(eigenvalues))]\n",
        "\n",
        "eig_pairs.sort(key=lambda tup:tup[0],reverse=True)\n",
        "eigvalues_sort  = [eig_pairs[index][0] for index in range(len(eigenvalues))]\n",
        "eigvectors_sort = [eig_pairs[index][1] for index in range(len(eigenvalues))]\n",
        "print('Number of eigen vectors:',len(eigvalues_sort))\n",
        "print(\"k:\",number_chosen_components)\n",
        "proj_mtx = np.array(eigvectors_sort[:number_chosen_components]).transpose()\n",
        "test(proj_mtx,training_label)"
      ],
      "execution_count": null,
      "outputs": [
        {
          "output_type": "stream",
          "name": "stdout",
          "text": [
            "Number of eigen vectors: 200\n",
            "k: 140\n"
          ]
        },
        {
          "output_type": "stream",
          "name": "stderr",
          "text": [
            "100%|██████████| 840/840 [00:21<00:00, 39.91it/s]\n",
            "100%|██████████| 840/840 [00:13<00:00, 60.67it/s]"
          ]
        },
        {
          "output_type": "stream",
          "name": "stdout",
          "text": [
            "Correct Prediction: 795\n",
            "Accuracy: 94.64285714285714\n"
          ]
        },
        {
          "output_type": "stream",
          "name": "stderr",
          "text": [
            "\n"
          ]
        }
      ]
    },
    {
      "cell_type": "markdown",
      "metadata": {
        "id": "Q5DrUPUm8xAY"
      },
      "source": [
        "# ***Average***"
      ]
    },
    {
      "cell_type": "code",
      "metadata": {
        "id": "bWZ3EKzy8qYp",
        "colab": {
          "base_uri": "https://localhost:8080/"
        },
        "outputId": "6c33c204-7183-489b-9186-4dddde155ee3"
      },
      "source": [
        "# proj_mtx = np.array(eigvectors_sort[:number_chosen_components]).transpose()\n",
        "p1 = np.zeros((pca_components,int(number_chosen_components/2)))\n",
        "index = 0\n",
        "end = int(number_chosen_components/2) \n",
        "for i in range(0,end):\n",
        "    p1[:,index] = proj_mtx[:,i]+proj_mtx[:,end+i]/2\n",
        "    # print(i)\n",
        "    index+=1\n",
        "test(p1,training_label)"
      ],
      "execution_count": null,
      "outputs": [
        {
          "output_type": "stream",
          "name": "stderr",
          "text": [
            "100%|██████████| 840/840 [00:21<00:00, 39.02it/s]\n",
            "100%|██████████| 840/840 [00:15<00:00, 52.88it/s]"
          ]
        },
        {
          "output_type": "stream",
          "name": "stdout",
          "text": [
            "Correct Prediction: 787\n",
            "Accuracy: 93.69047619047619\n"
          ]
        },
        {
          "output_type": "stream",
          "name": "stderr",
          "text": [
            "\n"
          ]
        }
      ]
    },
    {
      "cell_type": "markdown",
      "metadata": {
        "id": "TUEIQjwU9rK9"
      },
      "source": [
        "# ***Initialization***"
      ]
    },
    {
      "cell_type": "code",
      "metadata": {
        "id": "y7uqcAGkr8pV",
        "colab": {
          "base_uri": "https://localhost:8080/"
        },
        "outputId": "07b79e60-579e-48fb-9d86-6da165ac2e9c"
      },
      "source": [
        "sp_re = np.zeros(shape=(Xtrain_col.shape[1]-1,Xtrain_col.shape[1]))\n",
        "for i in range(Xtrain_col.shape[1]):  \n",
        "    clf = Lasso(alpha)\n",
        "    y = Xtrain_col[:,i]\n",
        "    Xtrain_col = np.delete(Xtrain_col,i,1)\n",
        "    clf.fit(Xtrain_col,y)\n",
        "    Xtrain_col=np.insert(Xtrain_col,i,y,axis=1)\n",
        "    sp_re[:,i] = clf.coef_\n",
        "\n",
        "num_tr = Xtrain_col.shape[1]\n",
        "\n",
        "Ew_new = np.zeros((pca_components,pca_components))\n",
        "Withinclass_error_new = np.ndarray(shape=(number_of_classes*img_in_class, pca_components), dtype=np.float64)\n",
        "for i in range(num_tr):\n",
        "    x = Xtrain_col[:,i]\n",
        "    label = training_label[i]\n",
        "    Xtrain_col = np.delete(Xtrain_col,i,1)\n",
        "    training_label = np.delete(training_label,i)\n",
        "    Withinclass_error_new[i,:] = x-np.dot(Xtrain_col,delta(sp_re[:,i],label,training_label))\n",
        "    Xtrain_col=np.insert(Xtrain_col,i,x,axis=1)\n",
        "    training_label=np.insert(training_label,i,label)\n",
        "\n",
        "Ew_new = np.dot(Withinclass_error_new.T,Withinclass_error_new)\n",
        "Ew_new = Ew_new/number_of_classes*img_in_class\n",
        "\n",
        " \n",
        "Eb_new = np.zeros((pca_components,pca_components))\n",
        "Betweenclass_error_new = np.ndarray(shape=(number_of_classes*img_in_class, pca_components), dtype=np.float64)\n",
        "for i in tqdm(range(num_tr)):\n",
        "    tmp = np.zeros((pca_components))\n",
        "    x = Xtrain_col[:,i]\n",
        "    Xtrain_col = np.delete(Xtrain_col,i,1)\n",
        "    label = training_label[i]\n",
        "    other_label_index=(k[label][0])\n",
        "    for j in range(other_label_index.shape[0]):\n",
        "        other_label = training_label[j]\n",
        "        training_label = np.delete(training_label,j)\n",
        "        tmp += x-(np.dot(Xtrain_col,delta(sp_re[:,j],other_label,training_label)))\n",
        "        training_label=np.insert(training_label,j,other_label)\n",
        "    Betweenclass_error_new[i,:] = tmp\n",
        "    Xtrain_col=np.insert(Xtrain_col,i,x,axis=1)\n",
        "Eb_new = np.dot(Betweenclass_error_new.T,Betweenclass_error_new)\n",
        "Eb_new = Eb_new/(num_data*(number_of_classes-1))\n"
      ],
      "execution_count": null,
      "outputs": [
        {
          "output_type": "stream",
          "name": "stderr",
          "text": [
            "100%|██████████| 600/600 [04:41<00:00,  2.13it/s]\n"
          ]
        }
      ]
    },
    {
      "cell_type": "code",
      "metadata": {
        "id": "bBc7Nn0Zr9J9"
      },
      "source": [
        "beta = 1\n",
        "J = np.dot(np.linalg.inv(sw+(beta*Ew_new)),(sb+(beta*Eb_new)))\n",
        "eigenvalues, eigenvectors, = np.linalg.eig(J)\n",
        "eig_pairs = [(eigenvalues[index], eigenvectors[:,index]) for index in range(len(eigenvalues))]\n",
        "\n",
        "eig_pairs.sort(key=lambda tup:tup[0],reverse=True)\n",
        "eigvalues_sort  = [eig_pairs[index][0] for index in range(len(eigenvalues))]\n",
        "eigvectors_sort = [eig_pairs[index][1] for index in range(len(eigenvalues))]\n",
        "p_zero_1 = np.array(eigvectors_sort[:number_chosen_components]).transpose() "
      ],
      "execution_count": null,
      "outputs": []
    },
    {
      "cell_type": "code",
      "metadata": {
        "id": "pYAJCKhXsDos",
        "colab": {
          "base_uri": "https://localhost:8080/"
        },
        "outputId": "f9c93e1b-4ccf-4636-d8ec-958ca122f9db"
      },
      "source": [
        "p_zero_1=p_zero_1.real\n",
        "y_tr_init = p_zero_1.transpose().dot(Xtrain_col)\n",
        "sp_re_init = np.zeros(shape=(y_tr.shape[1]-1,y_tr.shape[1]))\n",
        "for i in range(y_tr.shape[1]):  \n",
        "    clf = Lasso(alpha)\n",
        "    y = y_tr_init[:,i]\n",
        "    y_tr_init = np.delete(y_tr_init,i,1)\n",
        "    clf.fit(y_tr_init,y)\n",
        "    y_tr_init=np.insert(y_tr_init,i,y,axis=1)\n",
        "    sp_re_init[:,i] = clf.coef_\n",
        "\n",
        "\n",
        "Ew_1 = np.zeros((pca_components,pca_components))\n",
        "Withinclass_error_1 = np.ndarray(shape=(number_of_classes*img_in_class, pca_components), dtype=np.float64)\n",
        "for i in range(num_tr):\n",
        "    x = Xtrain_col[:,i]\n",
        "    label = training_label[i]\n",
        "    Xtrain_col = np.delete(Xtrain_col,i,1)\n",
        "    training_label = np.delete(training_label,i)\n",
        "    Withinclass_error_1[i,:] = x-np.dot(Xtrain_col,delta(sp_re_init[:,i],label,training_label))\n",
        "    Xtrain_col=np.insert(Xtrain_col,i,x,axis=1)\n",
        "    training_label=np.insert(training_label,i,label)\n",
        "\n",
        "Ew_1 = np.dot(Withinclass_error_1.T,Withinclass_error_1)\n",
        "Ew_1 = Ew_1/number_of_classes*img_in_class\n",
        "\n",
        "\n",
        "Eb_1 = np.zeros((pca_components,pca_components))\n",
        "Betweenclass_error_1 = np.ndarray(shape=(number_of_classes*img_in_class, pca_components), dtype=np.float64)\n",
        "for i in tqdm(range(num_tr)):\n",
        "    tmp = np.zeros((pca_components))\n",
        "    x = Xtrain_col[:,i]\n",
        "    Xtrain_col = np.delete(Xtrain_col,i,1)\n",
        "    label = training_label[i]\n",
        "    other_label_index=(k[label][0])\n",
        "    for j in range(other_label_index.shape[0]):\n",
        "        other_label = training_label[j]\n",
        "        training_label = np.delete(training_label,j)\n",
        "        tmp += x-(np.dot(Xtrain_col,delta(sp_re_init[:,j],other_label,training_label)))\n",
        "        training_label=np.insert(training_label,j,other_label)\n",
        "    Betweenclass_error_1[i,:] = tmp\n",
        "    Xtrain_col=np.insert(Xtrain_col,i,x,axis=1)\n",
        "Eb_1 = np.dot(Betweenclass_error_1.T,Betweenclass_error_1)\n",
        "Eb_1 = Eb_1/(num_data*(number_of_classes-1))\n",
        "\n",
        "J = np.dot(np.linalg.inv(sw+(beta*Ew_1)),sb+(beta*Eb_1))\n",
        "eigenvalues, eigenvectors, = np.linalg.eig(J)\n",
        "eig_pairs = [(eigenvalues[index], eigenvectors[:,index]) for index in range(len(eigenvalues))]\n",
        "\n",
        "eig_pairs.sort(key=lambda tup:tup[0],reverse=True)\n",
        "eigvalues_sort  = [eig_pairs[index][0] for index in range(len(eigenvalues))]\n",
        "eigvectors_sort = [eig_pairs[index][1] for index in range(len(eigenvalues))]\n",
        "proj_mtx_new = np.array(eigvectors_sort[:number_chosen_components]).transpose()"
      ],
      "execution_count": null,
      "outputs": [
        {
          "output_type": "stream",
          "name": "stderr",
          "text": [
            "100%|██████████| 600/600 [04:39<00:00,  2.15it/s]\n"
          ]
        }
      ]
    },
    {
      "cell_type": "code",
      "metadata": {
        "id": "ZCbKZm1BsRhX",
        "colab": {
          "base_uri": "https://localhost:8080/"
        },
        "outputId": "f399ed72-0263-4a2c-fee4-33ae9103c2cd"
      },
      "source": [
        "proj_mtx_new = proj_mtx_new.real\n",
        "test(proj_mtx_new,training_label)"
      ],
      "execution_count": null,
      "outputs": [
        {
          "output_type": "stream",
          "name": "stderr",
          "text": [
            "100%|██████████| 840/840 [00:17<00:00, 48.22it/s]\n",
            "100%|██████████| 840/840 [00:13<00:00, 64.10it/s]"
          ]
        },
        {
          "output_type": "stream",
          "name": "stdout",
          "text": [
            "Correct Prediction: 804\n",
            "Accuracy: 95.71428571428572\n"
          ]
        },
        {
          "output_type": "stream",
          "name": "stderr",
          "text": [
            "\n"
          ]
        }
      ]
    },
    {
      "cell_type": "code",
      "metadata": {
        "id": "sXJHp6tA97eb",
        "colab": {
          "base_uri": "https://localhost:8080/"
        },
        "outputId": "0e574ffd-9a8c-4fa6-84e2-e4990a8d59e7"
      },
      "source": [
        "p1 = np.zeros((pca_components,int(number_chosen_components/2)))\n",
        "index = 0\n",
        "end = int(number_chosen_components/2) \n",
        "for i in range(0,end):\n",
        "    p1[:,index] = proj_mtx_new[:,i]+proj_mtx_new[:,end+i]/2\n",
        "    # print(i)\n",
        "    index+=1\n",
        "test(p1,training_label)"
      ],
      "execution_count": null,
      "outputs": [
        {
          "output_type": "stream",
          "name": "stderr",
          "text": [
            "100%|██████████| 840/840 [00:20<00:00, 41.93it/s]\n",
            "100%|██████████| 840/840 [00:12<00:00, 66.15it/s]"
          ]
        },
        {
          "output_type": "stream",
          "name": "stdout",
          "text": [
            "Correct Prediction: 801\n",
            "Accuracy: 95.35714285714286\n"
          ]
        },
        {
          "output_type": "stream",
          "name": "stderr",
          "text": [
            "\n"
          ]
        }
      ]
    }
  ]
}